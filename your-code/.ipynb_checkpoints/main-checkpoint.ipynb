{
 "cells": [
  {
   "cell_type": "markdown",
   "metadata": {},
   "source": [
    "# Advanced Web Scraping Lab\n",
    "\n",
    "In this lab you will first learn the following code snippet which is a simple web spider class that allows you to scrape paginated webpages. Read the code, run it, and make sure you understand how it work. In the challenges of this lab, we will guide you in building up this class so that eventually you will have a more robus web spider that you can further work on in the Web Scraping Project."
   ]
  },
  {
   "cell_type": "code",
   "execution_count": 4,
   "metadata": {},
   "outputs": [],
   "source": [
    "import requests\n",
    "from bs4 import BeautifulSoup\n",
    "import time"
   ]
  },
  {
   "cell_type": "code",
   "execution_count": 1,
   "metadata": {},
   "outputs": [
    {
     "name": "stdout",
     "output_type": "stream",
     "text": [
      "b'<!DOCTYPE html>\\n<html lang=\"en\">\\n<head>\\n\\t<meta charset=\"UTF-8\">\\n\\t<title>Quotes to Scrape</title>\\n    <link rel=\"stylesheet\" href=\"/static/bootstrap.min.css\">\\n    <link rel=\"stylesheet\" href=\"/static/main.css\">\\n</head>\\n<body>\\n    <div class=\"container\">\\n        <div class=\"row header-box\">\\n            <div class=\"col-md-8\">\\n                <h1>\\n                    <a href=\"/\" style=\"text-decoration: none\">Quotes to Scrape</a>\\n                </h1>\\n            </div>\\n            <div class=\"col-md-4\">\\n                <p>\\n                \\n                    <a href=\"/login\">Login</a>\\n                \\n                </p>\\n            </div>\\n        </div>\\n    \\n\\n<div class=\"row\">\\n    <div class=\"col-md-8\">\\n\\n    <div class=\"quote\" itemscope itemtype=\"http://schema.org/CreativeWork\">\\n        <span class=\"text\" itemprop=\"text\">\\xe2\\x80\\x9cThe world as we have created it is a process of our thinking. It cannot be changed without changing our thinking.\\xe2\\x80\\x9d</span>\\n        <span>by <small class=\"author\" itemprop=\"author\">Albert Einstein</small>\\n        <a href=\"/author/Albert-Einstein\">(about)</a>\\n        </span>\\n        <div class=\"tags\">\\n            Tags:\\n            <meta class=\"keywords\" itemprop=\"keywords\" content=\"change,deep-thoughts,thinking,world\" /    > \\n            \\n            <a class=\"tag\" href=\"/tag/change/page/1/\">change</a>\\n            \\n            <a class=\"tag\" href=\"/tag/deep-thoughts/page/1/\">deep-thoughts</a>\\n            \\n            <a class=\"tag\" href=\"/tag/thinking/page/1/\">thinking</a>\\n            \\n            <a class=\"tag\" href=\"/tag/world/page/1/\">world</a>\\n            \\n        </div>\\n    </div>\\n\\n    <div class=\"quote\" itemscope itemtype=\"http://schema.org/CreativeWork\">\\n        <span class=\"text\" itemprop=\"text\">\\xe2\\x80\\x9cIt is our choices, Harry, that show what we truly are, far more than our abilities.\\xe2\\x80\\x9d</span>\\n        <span>by <small class=\"author\" itemprop=\"author\">J.K. Rowling</small>\\n        <a href=\"/author/J-K-Rowling\">(about)</a>\\n        </span>\\n        <div class=\"tags\">\\n            Tags:\\n            <meta class=\"keywords\" itemprop=\"keywords\" content=\"abilities,choices\" /    > \\n            \\n            <a class=\"tag\" href=\"/tag/abilities/page/1/\">abilities</a>\\n            \\n            <a class=\"tag\" href=\"/tag/choices/page/1/\">choices</a>\\n            \\n        </div>\\n    </div>\\n\\n    <div class=\"quote\" itemscope itemtype=\"http://schema.org/CreativeWork\">\\n        <span class=\"text\" itemprop=\"text\">\\xe2\\x80\\x9cThere are only two ways to live your life. One is as though nothing is a miracle. The other is as though everything is a miracle.\\xe2\\x80\\x9d</span>\\n        <span>by <small class=\"author\" itemprop=\"author\">Albert Einstein</small>\\n        <a href=\"/author/Albert-Einstein\">(about)</a>\\n        </span>\\n        <div class=\"tags\">\\n            Tags:\\n            <meta class=\"keywords\" itemprop=\"keywords\" content=\"inspirational,life,live,miracle,miracles\" /    > \\n            \\n            <a class=\"tag\" href=\"/tag/inspirational/page/1/\">inspirational</a>\\n            \\n            <a class=\"tag\" href=\"/tag/life/page/1/\">life</a>\\n            \\n            <a class=\"tag\" href=\"/tag/live/page/1/\">live</a>\\n            \\n            <a class=\"tag\" href=\"/tag/miracle/page/1/\">miracle</a>\\n            \\n            <a class=\"tag\" href=\"/tag/miracles/page/1/\">miracles</a>\\n            \\n        </div>\\n    </div>\\n\\n    <div class=\"quote\" itemscope itemtype=\"http://schema.org/CreativeWork\">\\n        <span class=\"text\" itemprop=\"text\">\\xe2\\x80\\x9cThe person, be it gentleman or lady, who has not pleasure in a good novel, must be intolerably stupid.\\xe2\\x80\\x9d</span>\\n        <span>by <small class=\"author\" itemprop=\"author\">Jane Austen</small>\\n        <a href=\"/author/Jane-Austen\">(about)</a>\\n        </span>\\n        <div class=\"tags\">\\n            Tags:\\n            <meta class=\"keywords\" itemprop=\"keywords\" content=\"aliteracy,books,classic,humor\" /    > \\n            \\n            <a class=\"tag\" href=\"/tag/aliteracy/page/1/\">aliteracy</a>\\n            \\n            <a class=\"tag\" href=\"/tag/books/page/1/\">books</a>\\n            \\n            <a class=\"tag\" href=\"/tag/classic/page/1/\">classic</a>\\n            \\n            <a class=\"tag\" href=\"/tag/humor/page/1/\">humor</a>\\n            \\n        </div>\\n    </div>\\n\\n    <div class=\"quote\" itemscope itemtype=\"http://schema.org/CreativeWork\">\\n        <span class=\"text\" itemprop=\"text\">\\xe2\\x80\\x9cImperfection is beauty, madness is genius and it&#39;s better to be absolutely ridiculous than absolutely boring.\\xe2\\x80\\x9d</span>\\n        <span>by <small class=\"author\" itemprop=\"author\">Marilyn Monroe</small>\\n        <a href=\"/author/Marilyn-Monroe\">(about)</a>\\n        </span>\\n        <div class=\"tags\">\\n            Tags:\\n            <meta class=\"keywords\" itemprop=\"keywords\" content=\"be-yourself,inspirational\" /    > \\n            \\n            <a class=\"tag\" href=\"/tag/be-yourself/page/1/\">be-yourself</a>\\n            \\n            <a class=\"tag\" href=\"/tag/inspirational/page/1/\">inspirational</a>\\n            \\n        </div>\\n    </div>\\n\\n    <div class=\"quote\" itemscope itemtype=\"http://schema.org/CreativeWork\">\\n        <span class=\"text\" itemprop=\"text\">\\xe2\\x80\\x9cTry not to become a man of success. Rather become a man of value.\\xe2\\x80\\x9d</span>\\n        <span>by <small class=\"author\" itemprop=\"author\">Albert Einstein</small>\\n        <a href=\"/author/Albert-Einstein\">(about)</a>\\n        </span>\\n        <div class=\"tags\">\\n            Tags:\\n            <meta class=\"keywords\" itemprop=\"keywords\" content=\"adulthood,success,value\" /    > \\n            \\n            <a class=\"tag\" href=\"/tag/adulthood/page/1/\">adulthood</a>\\n            \\n            <a class=\"tag\" href=\"/tag/success/page/1/\">success</a>\\n            \\n            <a class=\"tag\" href=\"/tag/value/page/1/\">value</a>\\n            \\n        </div>\\n    </div>\\n\\n    <div class=\"quote\" itemscope itemtype=\"http://schema.org/CreativeWork\">\\n        <span class=\"text\" itemprop=\"text\">\\xe2\\x80\\x9cIt is better to be hated for what you are than to be loved for what you are not.\\xe2\\x80\\x9d</span>\\n        <span>by <small class=\"author\" itemprop=\"author\">Andr\\xc3\\xa9 Gide</small>\\n        <a href=\"/author/Andre-Gide\">(about)</a>\\n        </span>\\n        <div class=\"tags\">\\n            Tags:\\n            <meta class=\"keywords\" itemprop=\"keywords\" content=\"life,love\" /    > \\n            \\n            <a class=\"tag\" href=\"/tag/life/page/1/\">life</a>\\n            \\n            <a class=\"tag\" href=\"/tag/love/page/1/\">love</a>\\n            \\n        </div>\\n    </div>\\n\\n    <div class=\"quote\" itemscope itemtype=\"http://schema.org/CreativeWork\">\\n        <span class=\"text\" itemprop=\"text\">\\xe2\\x80\\x9cI have not failed. I&#39;ve just found 10,000 ways that won&#39;t work.\\xe2\\x80\\x9d</span>\\n        <span>by <small class=\"author\" itemprop=\"author\">Thomas A. Edison</small>\\n        <a href=\"/author/Thomas-A-Edison\">(about)</a>\\n        </span>\\n        <div class=\"tags\">\\n            Tags:\\n            <meta class=\"keywords\" itemprop=\"keywords\" content=\"edison,failure,inspirational,paraphrased\" /    > \\n            \\n            <a class=\"tag\" href=\"/tag/edison/page/1/\">edison</a>\\n            \\n            <a class=\"tag\" href=\"/tag/failure/page/1/\">failure</a>\\n            \\n            <a class=\"tag\" href=\"/tag/inspirational/page/1/\">inspirational</a>\\n            \\n            <a class=\"tag\" href=\"/tag/paraphrased/page/1/\">paraphrased</a>\\n            \\n        </div>\\n    </div>\\n\\n    <div class=\"quote\" itemscope itemtype=\"http://schema.org/CreativeWork\">\\n        <span class=\"text\" itemprop=\"text\">\\xe2\\x80\\x9cA woman is like a tea bag; you never know how strong it is until it&#39;s in hot water.\\xe2\\x80\\x9d</span>\\n        <span>by <small class=\"author\" itemprop=\"author\">Eleanor Roosevelt</small>\\n        <a href=\"/author/Eleanor-Roosevelt\">(about)</a>\\n        </span>\\n        <div class=\"tags\">\\n            Tags:\\n            <meta class=\"keywords\" itemprop=\"keywords\" content=\"misattributed-eleanor-roosevelt\" /    > \\n            \\n            <a class=\"tag\" href=\"/tag/misattributed-eleanor-roosevelt/page/1/\">misattributed-eleanor-roosevelt</a>\\n            \\n        </div>\\n    </div>\\n\\n    <div class=\"quote\" itemscope itemtype=\"http://schema.org/CreativeWork\">\\n        <span class=\"text\" itemprop=\"text\">\\xe2\\x80\\x9cA day without sunshine is like, you know, night.\\xe2\\x80\\x9d</span>\\n        <span>by <small class=\"author\" itemprop=\"author\">Steve Martin</small>\\n        <a href=\"/author/Steve-Martin\">(about)</a>\\n        </span>\\n        <div class=\"tags\">\\n            Tags:\\n            <meta class=\"keywords\" itemprop=\"keywords\" content=\"humor,obvious,simile\" /    > \\n            \\n            <a class=\"tag\" href=\"/tag/humor/page/1/\">humor</a>\\n            \\n            <a class=\"tag\" href=\"/tag/obvious/page/1/\">obvious</a>\\n            \\n            <a class=\"tag\" href=\"/tag/simile/page/1/\">simile</a>\\n            \\n        </div>\\n    </div>\\n\\n    <nav>\\n        <ul class=\"pager\">\\n            \\n            \\n            <li class=\"next\">\\n                <a href=\"/page/2/\">Next <span aria-hidden=\"true\">&rarr;</span></a>\\n            </li>\\n            \\n        </ul>\\n    </nav>\\n    </div>\\n    <div class=\"col-md-4 tags-box\">\\n        \\n            <h2>Top Ten tags</h2>\\n            \\n            <span class=\"tag-item\">\\n            <a class=\"tag\" style=\"font-size: 28px\" href=\"/tag/love/\">love</a>\\n            </span>\\n            \\n            <span class=\"tag-item\">\\n            <a class=\"tag\" style=\"font-size: 26px\" href=\"/tag/inspirational/\">inspirational</a>\\n            </span>\\n            \\n            <span class=\"tag-item\">\\n            <a class=\"tag\" style=\"font-size: 26px\" href=\"/tag/life/\">life</a>\\n            </span>\\n            \\n            <span class=\"tag-item\">\\n            <a class=\"tag\" style=\"font-size: 24px\" href=\"/tag/humor/\">humor</a>\\n            </span>\\n            \\n            <span class=\"tag-item\">\\n            <a class=\"tag\" style=\"font-size: 22px\" href=\"/tag/books/\">books</a>\\n            </span>\\n            \\n            <span class=\"tag-item\">\\n            <a class=\"tag\" style=\"font-size: 14px\" href=\"/tag/reading/\">reading</a>\\n            </span>\\n            \\n            <span class=\"tag-item\">\\n            <a class=\"tag\" style=\"font-size: 10px\" href=\"/tag/friendship/\">friendship</a>\\n            </span>\\n            \\n            <span class=\"tag-item\">\\n            <a class=\"tag\" style=\"font-size: 8px\" href=\"/tag/friends/\">friends</a>\\n            </span>\\n            \\n            <span class=\"tag-item\">\\n            <a class=\"tag\" style=\"font-size: 8px\" href=\"/tag/truth/\">truth</a>\\n            </span>\\n            \\n            <span class=\"tag-item\">\\n            <a class=\"tag\" style=\"font-size: 6px\" href=\"/tag/simile/\">simile</a>\\n            </span>\\n            \\n        \\n    </div>\\n</div>\\n\\n    </div>\\n    <footer class=\"footer\">\\n        <div class=\"container\">\\n            <p class=\"text-muted\">\\n                Quotes by: <a href=\"https://www.goodreads.com/quotes\">GoodReads.com</a>\\n            </p>\\n            <p class=\"copyright\">\\n                Made with <span class=\\'sh-red\\'>\\xe2\\x9d\\xa4</span> by <a href=\"https://scrapinghub.com\">Scrapinghub</a>\\n            </p>\\n        </div>\\n    </footer>\\n</body>\\n</html>'\n"
     ]
    }
   ],
   "source": [
    "class IronhackSpider:\n",
    "    \"\"\"\n",
    "    This is the constructor class to which you can pass a bunch of parameters. \n",
    "    These parameters are stored to the class instance variables so that the\n",
    "    class functions can access them later.\n",
    "    \n",
    "    url_pattern: the regex pattern of the web urls to scape\n",
    "    pages_to_scrape: how many pages to scrape\n",
    "    sleep_interval: the time interval in seconds to delay between requests. If <0, requests will not be delayed.\n",
    "    content_parser: a function reference that will extract the intended info from the scraped content.\n",
    "    \"\"\"\n",
    "    def __init__(self, url_pattern, pages_to_scrape=10, sleep_interval=-1, content_parser=None):\n",
    "        self.url_pattern = url_pattern\n",
    "        self.pages_to_scrape = pages_to_scrape\n",
    "        self.sleep_interval = sleep_interval\n",
    "        self.content_parser = content_parser\n",
    "    \n",
    "    \"\"\"\n",
    "    Scrape the content of a single url.\n",
    "    \"\"\"\n",
    "    def scrape_url(self, url):\n",
    "        response = requests.get(url)\n",
    "        result = self.content_parser(response.content)\n",
    "        self.output_results(result)\n",
    "    \n",
    "    \"\"\"\n",
    "    Export the scraped content. Right now it simply print out the results.\n",
    "    But in the future you can export the results into a text file or database.\n",
    "    \"\"\"\n",
    "    def output_results(self, r):\n",
    "        print(r)\n",
    "    \n",
    "    \"\"\"\n",
    "    After the class is instantiated, call this function to start the scraping jobs.\n",
    "    This function uses a FOR loop to call `scrape_url()` for each url to scrape.\n",
    "    \"\"\"\n",
    "    def kickstart(self):\n",
    "        for i in range(1, self.pages_to_scrape+1):\n",
    "            self.scrape_url(self.url_pattern % i)\n",
    "\n",
    "\n",
    "URL_PATTERN = 'http://quotes.toscrape.com/page/%s/' # regex pattern for the urls to scrape\n",
    "PAGES_TO_SCRAPE = 1 # how many webpages to scrapge\n",
    "\n",
    "\"\"\"\n",
    "This is a custom parser function you will complete in the challenge.\n",
    "Right now it simply returns the string passed to it. But in this lab\n",
    "you will complete this function so that it extracts the quotes.\n",
    "This function will be passed to the IronhackSpider class.\n",
    "\"\"\"\n",
    "def quotes_parser(content):\n",
    "    return content\n",
    "\n",
    "# Instantiate the IronhackSpider class\n",
    "my_spider = IronhackSpider(URL_PATTERN, PAGES_TO_SCRAPE, content_parser=quotes_parser)\n",
    "\n",
    "# Start scraping jobs\n",
    "my_spider.kickstart()"
   ]
  },
  {
   "cell_type": "markdown",
   "metadata": {},
   "source": [
    "## Challenge 1 - Custom Parser Function\n",
    "\n",
    "In this challenge, complete the custom `quotes_parser()` function so that the returned result contains the quote string instead of the whole html page content.\n",
    "\n",
    "In the cell below, write your updated `quotes_parser()` function and kickstart the spider. Make sure the results being printed contain a list of quote strings extracted from the html content."
   ]
  },
  {
   "cell_type": "code",
   "execution_count": 2,
   "metadata": {},
   "outputs": [
    {
     "name": "stdout",
     "output_type": "stream",
     "text": [
      "['“The world as we have created it is a process of our thinking. It cannot be changed without changing our thinking.”', '“It is our choices, Harry, that show what we truly are, far more than our abilities.”', '“There are only two ways to live your life. One is as though nothing is a miracle. The other is as though everything is a miracle.”', '“The person, be it gentleman or lady, who has not pleasure in a good novel, must be intolerably stupid.”', \"“Imperfection is beauty, madness is genius and it's better to be absolutely ridiculous than absolutely boring.”\", '“Try not to become a man of success. Rather become a man of value.”', '“It is better to be hated for what you are than to be loved for what you are not.”', \"“I have not failed. I've just found 10,000 ways that won't work.”\", \"“A woman is like a tea bag; you never know how strong it is until it's in hot water.”\", '“A day without sunshine is like, you know, night.”']\n"
     ]
    }
   ],
   "source": [
    "def quotes_parser(content):\n",
    "    soup = BeautifulSoup(content, 'lxml')\n",
    "    content = [value.text for value in soup.select('span[class=\"text\"]')]\n",
    "    return content\n",
    "\n",
    "quotes_parser(requests.get(\"http://quotes.toscrape.com\").content)\n",
    "\n",
    "my_spider = IronhackSpider(URL_PATTERN, PAGES_TO_SCRAPE, content_parser=quotes_parser)\n",
    "my_spider.kickstart()"
   ]
  },
  {
   "cell_type": "markdown",
   "metadata": {},
   "source": [
    "## Challenge 2 - Error Handling\n",
    "\n",
    "In `IronhackSpider.scrape_url()`, catch any error that might occur when you make requests to scrape the webpage. This includes checking the response status code and catching http request errors such as timeout, SSL, and too many redirects.\n",
    "\n",
    "In the cell below, place your entire code including the updated `IronhackSpdier` class and the code to kickstart the spider."
   ]
  },
  {
   "cell_type": "code",
   "execution_count": 9,
   "metadata": {},
   "outputs": [],
   "source": [
    "class IronhackSpider:\n",
    "    \"\"\"\n",
    "    This is the constructor class to which you can pass a bunch of parameters. \n",
    "    These parameters are stored to the class instance variables so that the\n",
    "    class functions can access them later.\n",
    "    \n",
    "    url_pattern: the regex pattern of the web urls to scape\n",
    "    pages_to_scrape: how many pages to scrape\n",
    "    sleep_interval: the time interval in seconds to delay between requests. If <0, requests will not be delayed.\n",
    "    content_parser: a function reference that will extract the intended info from the scraped content.\n",
    "    \"\"\"\n",
    "    def __init__(self, url_pattern, pages_to_scrape=10, sleep_interval=-1, content_parser=None):\n",
    "        self.url_pattern = url_pattern\n",
    "        self.pages_to_scrape = pages_to_scrape\n",
    "        self.sleep_interval = sleep_interval\n",
    "        self.content_parser = content_parser\n",
    "    \n",
    "    \"\"\"\n",
    "    Scrape the content of a single url.\n",
    "    \"\"\"\n",
    "    def scrape_url(self, url):    \n",
    "        try:\n",
    "            r = requests.get(url, timeout=10)\n",
    "            response = requests.get(url)\n",
    "            result = self.content_parser(response.content)\n",
    "            self.output_results(result)\n",
    "            \n",
    "            if r.status_code < 300:\n",
    "                print('request was successful')\n",
    "            elif r.status_code >= 400 and r.status_code < 500:\n",
    "                print('request failed because the resource either does not exist or is forbidden')\n",
    "            else:\n",
    "                print('request failed because the response server encountered an error')\n",
    "        except requests.exceptions.Timeout:\n",
    "            self.output_results(f\"Timeout, couldn't connect after {timeout}s\")\n",
    "        except requests.exceptions.TooManyRedirects:\n",
    "            self.output_results(\"Too many redirects, I'm not following that!\")\n",
    "        except requests.exceptions.SSLError:\n",
    "            self.output_results(\"Site doesn't have a SSL certificate\")\n",
    "        except requests.exceptions.RequestException as e:\n",
    "            self.output_results(\"OK... I don't know what's happening here...\")\n",
    "              \n",
    "    \"\"\"\n",
    "    Export the scraped content. Right now it simply print out the results.\n",
    "    But in the future you can export the results into a text file or database.\n",
    "    \"\"\"\n",
    "    def output_results(self, r):\n",
    "        print(r)\n",
    "    \n",
    "    \"\"\"\n",
    "    After the class is instantiated, call this function to start the scraping jobs.\n",
    "    This function uses a FOR loop to call `scrape_url()` for each url to scrape.\n",
    "    \"\"\"\n",
    "    def kickstart(self):\n",
    "        for i in range(1, self.pages_to_scrape+1):\n",
    "                self.scrape_url(self.url_pattern % i)            "
   ]
  },
  {
   "cell_type": "code",
   "execution_count": 10,
   "metadata": {},
   "outputs": [
    {
     "name": "stdout",
     "output_type": "stream",
     "text": [
      "['“The world as we have created it is a process of our thinking. It cannot be changed without changing our thinking.”', '“It is our choices, Harry, that show what we truly are, far more than our abilities.”', '“There are only two ways to live your life. One is as though nothing is a miracle. The other is as though everything is a miracle.”', '“The person, be it gentleman or lady, who has not pleasure in a good novel, must be intolerably stupid.”', \"“Imperfection is beauty, madness is genius and it's better to be absolutely ridiculous than absolutely boring.”\", '“Try not to become a man of success. Rather become a man of value.”', '“It is better to be hated for what you are than to be loved for what you are not.”', \"“I have not failed. I've just found 10,000 ways that won't work.”\", \"“A woman is like a tea bag; you never know how strong it is until it's in hot water.”\", '“A day without sunshine is like, you know, night.”']\n",
      "request was successful\n"
     ]
    }
   ],
   "source": [
    "my_spider = IronhackSpider(URL_PATTERN, PAGES_TO_SCRAPE, content_parser=quotes_parser)\n",
    "my_spider.kickstart()"
   ]
  },
  {
   "cell_type": "markdown",
   "metadata": {},
   "source": [
    "# Challenge 3 - Sleep Interval\n",
    "\n",
    "In `IronhackSpider.kickstart()`, implement `sleep_interval`. You will check if `self.sleep_interval` is larger than 0. If so, tell the FOR loop to sleep the given amount of time before making the next request.\n",
    "\n",
    "In the cell below, place your entire code including the updated `IronhackSpdier` class and the code to kickstart the spider."
   ]
  },
  {
   "cell_type": "code",
   "execution_count": 28,
   "metadata": {},
   "outputs": [],
   "source": [
    "class IronhackSpider:\n",
    "    \"\"\"\n",
    "    This is the constructor class to which you can pass a bunch of parameters. \n",
    "    These parameters are stored to the class instance variables so that the\n",
    "    class functions can access them later.\n",
    "    \n",
    "    url_pattern: the regex pattern of the web urls to scape\n",
    "    pages_to_scrape: how many pages to scrape\n",
    "    sleep_interval: the time interval in seconds to delay between requests. If <0, requests will not be delayed.\n",
    "    content_parser: a function reference that will extract the intended info from the scraped content.\n",
    "    \"\"\"\n",
    "    def __init__(self, url_pattern, pages_to_scrape=10, sleep_interval=-1, content_parser=None):\n",
    "        self.url_pattern = url_pattern\n",
    "        self.pages_to_scrape = pages_to_scrape\n",
    "        self.sleep_interval = sleep_interval\n",
    "        self.content_parser = content_parser\n",
    "    \n",
    "    \"\"\"\n",
    "    Scrape the content of a single url.\n",
    "    \"\"\"\n",
    "    def scrape_url(self, url):    \n",
    "        try:\n",
    "            r = requests.get(url, timeout=10)\n",
    "            if r.status_code < 300:\n",
    "                self.output_results('request was successful')\n",
    "            elif r.status_code >= 400 and r.status_code < 500:\n",
    "                self.output_results('request failed because the resource either does not exist or is forbidden')\n",
    "            else:\n",
    "                self.output_results('request failed because the response server encountered an error')         \n",
    "            response = requests.get(url)\n",
    "            result = self.content_parser(response.content)\n",
    "            self.output_results(result)\n",
    "            \n",
    "            \n",
    "        except requests.exceptions.Timeout:\n",
    "            self.output_results(f\"Timeout, couldn't connect after {timeout}s\")\n",
    "        except requests.exceptions.TooManyRedirects:\n",
    "            self.output_results(\"Too many redirects, I'm not following that!\")\n",
    "        except requests.exceptions.SSLError:\n",
    "            self.output_results(\"Site doesn't have a SSL certificate\")\n",
    "        except requests.exceptions.RequestException as e:\n",
    "            self.output_results(\"OK... I don't know what's happening here...\")\n",
    "              \n",
    "    \"\"\"\n",
    "    Export the scraped content. Right now it simply print out the results.\n",
    "    But in the future you can export the results into a text file or database.\n",
    "    \"\"\"\n",
    "    def output_results(self, r):\n",
    "        print(r)\n",
    "    \n",
    "    \"\"\"\n",
    "    After the class is instantiated, call this function to start the scraping jobs.\n",
    "    This function uses a FOR loop to call `scrape_url()` for each url to scrape.\n",
    "    \"\"\"\n",
    "    def kickstart(self):\n",
    "        \n",
    "        for i in range(1, self.pages_to_scrape+1):\n",
    "                self.scrape_url(self.url_pattern % i)\n",
    "                if self.sleep_interval > 0:\n",
    "                    time.sleep(self.sleep_interval)"
   ]
  },
  {
   "cell_type": "code",
   "execution_count": 29,
   "metadata": {},
   "outputs": [
    {
     "name": "stdout",
     "output_type": "stream",
     "text": [
      "request was successful\n",
      "['“The world as we have created it is a process of our thinking. It cannot be changed without changing our thinking.”', '“It is our choices, Harry, that show what we truly are, far more than our abilities.”', '“There are only two ways to live your life. One is as though nothing is a miracle. The other is as though everything is a miracle.”', '“The person, be it gentleman or lady, who has not pleasure in a good novel, must be intolerably stupid.”', \"“Imperfection is beauty, madness is genius and it's better to be absolutely ridiculous than absolutely boring.”\", '“Try not to become a man of success. Rather become a man of value.”', '“It is better to be hated for what you are than to be loved for what you are not.”', \"“I have not failed. I've just found 10,000 ways that won't work.”\", \"“A woman is like a tea bag; you never know how strong it is until it's in hot water.”\", '“A day without sunshine is like, you know, night.”']\n",
      "request was successful\n",
      "[\"“This life is what you make it. No matter what, you're going to mess up sometimes, it's a universal truth. But the good part is you get to decide how you're going to mess it up. Girls will be your friends - they'll act like it anyway. But just remember, some come, some go. The ones that stay with you through everything - they're your true best friends. Don't let go of them. Also remember, sisters make the best friends in the world. As for lovers, well, they'll come and go too. And baby, I hate to say it, most of them - actually pretty much all of them are going to break your heart, but you can't give up because if you give up, you'll never find your soulmate. You'll never find that half who makes you whole and that goes for everything. Just because you fail once, doesn't mean you're gonna fail at everything. Keep trying, hold on, and always, always, always believe in yourself, because if you don't, then who will, sweetie? So keep your head high, keep your chin up, and most importantly, keep smiling, because life's a beautiful thing and there's so much to smile about.”\", '“It takes a great deal of bravery to stand up to our enemies, but just as much to stand up to our friends.”', \"“If you can't explain it to a six year old, you don't understand it yourself.”\", \"“You may not be her first, her last, or her only. She loved before she may love again. But if she loves you now, what else matters? She's not perfect—you aren't either, and the two of you may never be perfect together but if she can make you laugh, cause you to think twice, and admit to being human and making mistakes, hold onto her and give her the most you can. She may not be thinking about you every second of the day, but she will give you a part of her that she knows you can break—her heart. So don't hurt her, don't change her, don't analyze and don't expect more than she can give. Smile when she makes you happy, let her know when she makes you mad, and miss her when she's not there.”\", '“I like nonsense, it wakes up the brain cells. Fantasy is a necessary ingredient in living.”', '“I may not have gone where I intended to go, but I think I have ended up where I needed to be.”', \"“The opposite of love is not hate, it's indifference. The opposite of art is not ugliness, it's indifference. The opposite of faith is not heresy, it's indifference. And the opposite of life is not death, it's indifference.”\", '“It is not a lack of love, but a lack of friendship that makes unhappy marriages.”', '“Good friends, good books, and a sleepy conscience: this is the ideal life.”', '“Life is what happens to us while we are making other plans.”']\n"
     ]
    }
   ],
   "source": [
    "URL_PATTERN = 'http://quotes.toscrape.com/page/%s/' # regex pattern for the urls to scrape\n",
    "PAGES_TO_SCRAPE = 2 # how many webpages to scrapge\n",
    "\n",
    "my_spider = IronhackSpider(URL_PATTERN, PAGES_TO_SCRAPE,  sleep_interval=5, content_parser=quotes_parser)\n",
    "my_spider.kickstart()"
   ]
  },
  {
   "cell_type": "markdown",
   "metadata": {},
   "source": [
    "# Challenge 4 - Test Batch Scraping\n",
    "\n",
    "Change the `PAGES_TO_SCRAPE` value from `1` to `10`. Try if your code still works as intended to scrape 10 webpages. If there are errors in your code, fix them.\n",
    "\n",
    "In the cell below, place your entire code including the updated `IronhackSpdier` class and the code to kickstart the spider."
   ]
  },
  {
   "cell_type": "code",
   "execution_count": 31,
   "metadata": {},
   "outputs": [],
   "source": [
    "# your code here\n",
    "class IronhackSpider:\n",
    "    \"\"\"\n",
    "    This is the constructor class to which you can pass a bunch of parameters. \n",
    "    These parameters are stored to the class instance variables so that the\n",
    "    class functions can access them later.\n",
    "    \n",
    "    url_pattern: the regex pattern of the web urls to scape\n",
    "    pages_to_scrape: how many pages to scrape\n",
    "    sleep_interval: the time interval in seconds to delay between requests. If <0, requests will not be delayed.\n",
    "    content_parser: a function reference that will extract the intended info from the scraped content.\n",
    "    \"\"\"\n",
    "    def __init__(self, url_pattern, pages_to_scrape=10, sleep_interval=-1, content_parser=None):\n",
    "        self.url_pattern = url_pattern\n",
    "        self.pages_to_scrape = pages_to_scrape\n",
    "        self.sleep_interval = sleep_interval\n",
    "        self.content_parser = content_parser\n",
    "    \n",
    "    \"\"\"\n",
    "    Scrape the content of a single url.\n",
    "    \"\"\"\n",
    "    def scrape_url(self, url):    \n",
    "        try:\n",
    "            r = requests.get(url, timeout=10)\n",
    "            if r.status_code < 300:\n",
    "                self.output_results('request was successful')\n",
    "            elif r.status_code >= 400 and r.status_code < 500:\n",
    "                self.output_results('request failed because the resource either does not exist or is forbidden')\n",
    "            else:\n",
    "                self.output_results('request failed because the response server encountered an error')         \n",
    "            response = requests.get(url)\n",
    "            result = self.content_parser(response.content)\n",
    "            self.output_results(result)\n",
    "            \n",
    "            \n",
    "        except requests.exceptions.Timeout:\n",
    "            self.output_results(f\"Timeout, couldn't connect after {timeout}s\")\n",
    "        except requests.exceptions.TooManyRedirects:\n",
    "            self.output_results(\"Too many redirects, I'm not following that!\")\n",
    "        except requests.exceptions.SSLError:\n",
    "            self.output_results(\"Site doesn't have a SSL certificate\")\n",
    "        except requests.exceptions.RequestException as e:\n",
    "            self.output_results(\"OK... I don't know what's happening here...\")\n",
    "              \n",
    "    \"\"\"\n",
    "    Export the scraped content. Right now it simply print out the results.\n",
    "    But in the future you can export the results into a text file or database.\n",
    "    \"\"\"\n",
    "    def output_results(self, r):\n",
    "        print(r)\n",
    "    \n",
    "    \"\"\"\n",
    "    After the class is instantiated, call this function to start the scraping jobs.\n",
    "    This function uses a FOR loop to call `scrape_url()` for each url to scrape.\n",
    "    \"\"\"\n",
    "    def kickstart(self):\n",
    "        \n",
    "        for i in range(1, self.pages_to_scrape+1):\n",
    "                self.scrape_url(self.url_pattern % i)\n",
    "                if self.sleep_interval > 0:\n",
    "                    time.sleep(self.sleep_interval)"
   ]
  },
  {
   "cell_type": "code",
   "execution_count": 32,
   "metadata": {},
   "outputs": [
    {
     "name": "stdout",
     "output_type": "stream",
     "text": [
      "request was successful\n",
      "['“The world as we have created it is a process of our thinking. It cannot be changed without changing our thinking.”', '“It is our choices, Harry, that show what we truly are, far more than our abilities.”', '“There are only two ways to live your life. One is as though nothing is a miracle. The other is as though everything is a miracle.”', '“The person, be it gentleman or lady, who has not pleasure in a good novel, must be intolerably stupid.”', \"“Imperfection is beauty, madness is genius and it's better to be absolutely ridiculous than absolutely boring.”\", '“Try not to become a man of success. Rather become a man of value.”', '“It is better to be hated for what you are than to be loved for what you are not.”', \"“I have not failed. I've just found 10,000 ways that won't work.”\", \"“A woman is like a tea bag; you never know how strong it is until it's in hot water.”\", '“A day without sunshine is like, you know, night.”']\n",
      "request was successful\n",
      "[\"“This life is what you make it. No matter what, you're going to mess up sometimes, it's a universal truth. But the good part is you get to decide how you're going to mess it up. Girls will be your friends - they'll act like it anyway. But just remember, some come, some go. The ones that stay with you through everything - they're your true best friends. Don't let go of them. Also remember, sisters make the best friends in the world. As for lovers, well, they'll come and go too. And baby, I hate to say it, most of them - actually pretty much all of them are going to break your heart, but you can't give up because if you give up, you'll never find your soulmate. You'll never find that half who makes you whole and that goes for everything. Just because you fail once, doesn't mean you're gonna fail at everything. Keep trying, hold on, and always, always, always believe in yourself, because if you don't, then who will, sweetie? So keep your head high, keep your chin up, and most importantly, keep smiling, because life's a beautiful thing and there's so much to smile about.”\", '“It takes a great deal of bravery to stand up to our enemies, but just as much to stand up to our friends.”', \"“If you can't explain it to a six year old, you don't understand it yourself.”\", \"“You may not be her first, her last, or her only. She loved before she may love again. But if she loves you now, what else matters? She's not perfect—you aren't either, and the two of you may never be perfect together but if she can make you laugh, cause you to think twice, and admit to being human and making mistakes, hold onto her and give her the most you can. She may not be thinking about you every second of the day, but she will give you a part of her that she knows you can break—her heart. So don't hurt her, don't change her, don't analyze and don't expect more than she can give. Smile when she makes you happy, let her know when she makes you mad, and miss her when she's not there.”\", '“I like nonsense, it wakes up the brain cells. Fantasy is a necessary ingredient in living.”', '“I may not have gone where I intended to go, but I think I have ended up where I needed to be.”', \"“The opposite of love is not hate, it's indifference. The opposite of art is not ugliness, it's indifference. The opposite of faith is not heresy, it's indifference. And the opposite of life is not death, it's indifference.”\", '“It is not a lack of love, but a lack of friendship that makes unhappy marriages.”', '“Good friends, good books, and a sleepy conscience: this is the ideal life.”', '“Life is what happens to us while we are making other plans.”']\n",
      "request was successful\n",
      "['“I love you without knowing how, or when, or from where. I love you simply, without problems or pride: I love you in this way because I do not know any other way of loving but this, in which there is no I or you, so intimate that your hand upon my chest is my hand, so intimate that when I fall asleep your eyes close.”', '“For every minute you are angry you lose sixty seconds of happiness.”', '“If you judge people, you have no time to love them.”', '“Anyone who thinks sitting in church can make you a Christian must also think that sitting in a garage can make you a car.”', '“Beauty is in the eye of the beholder and it may be necessary from time to time to give a stupid or misinformed beholder a black eye.”', '“Today you are You, that is truer than true. There is no one alive who is Youer than You.”', '“If you want your children to be intelligent, read them fairy tales. If you want them to be more intelligent, read them more fairy tales.”', '“It is impossible to live without failing at something, unless you live so cautiously that you might as well not have lived at all - in which case, you fail by default.”', '“Logic will get you from A to Z; imagination will get you everywhere.”', '“One good thing about music, when it hits you, you feel no pain.”']\n",
      "request was successful\n",
      "[\"“The more that you read, the more things you will know. The more that you learn, the more places you'll go.”\", '“Of course it is happening inside your head, Harry, but why on earth should that mean that it is not real?”', '“The truth is, everyone is going to hurt you. You just got to find the ones worth suffering for.”', '“Not all of us can do great things. But we can do small things with great love.”', '“To the well-organized mind, death is but the next great adventure.”', \"“All you need is love. But a little chocolate now and then doesn't hurt.”\", \"“We read to know we're not alone.”\", '“Any fool can know. The point is to understand.”', '“I have always imagined that Paradise will be a kind of library.”', '“It is never too late to be what you might have been.”']\n",
      "request was successful\n",
      "['“A reader lives a thousand lives before he dies, said Jojen. The man who never reads lives only one.”', '“You can never get a cup of tea large enough or a book long enough to suit me.”', '“You believe lies so you eventually learn to trust no one but yourself.”', '“If you can make a woman laugh, you can make her do anything.”', '“Life is like riding a bicycle. To keep your balance, you must keep moving.”', '“The real lover is the man who can thrill you by kissing your forehead or smiling into your eyes or just staring into space.”', \"“A wise girl kisses but doesn't love, listens but doesn't believe, and leaves before she is left.”\", '“Only in the darkness can you see the stars.”', '“It matters not what someone is born, but what they grow to be.”', '“Love does not begin and end the way we seem to think it does. Love is a battle, love is a war; love is a growing up.”']\n",
      "request was successful\n",
      "['“There is nothing I would not do for those who are really my friends. I have no notion of loving people by halves, it is not my nature.”', '“Do one thing every day that scares you.”', '“I am good, but not an angel. I do sin, but I am not the devil. I am just a small girl in a big world trying to find someone to love.”', '“If I were not a physicist, I would probably be a musician. I often think in music. I live my daydreams in music. I see my life in terms of music.”', '“If you only read the books that everyone else is reading, you can only think what everyone else is thinking.”', '“The difference between genius and stupidity is: genius has its limits.”', \"“He's like a drug for you, Bella.”\", '“There is no friend as loyal as a book.”', '“When one door of happiness closes, another opens; but often we look so long at the closed door that we do not see the one which has been opened for us.”', \"“Life isn't about finding yourself. Life is about creating yourself.”\"]\n",
      "request was successful\n",
      "[\"“That's the problem with drinking, I thought, as I poured myself a drink. If something bad happens you drink in an attempt to forget; if something good happens you drink in order to celebrate; and if nothing happens you drink to make something happen.”\", '“You don’t forget the face of the person who was your last hope.”', \"“Remember, we're madly in love, so it's all right to kiss me anytime you feel like it.”\", '“To love at all is to be vulnerable. Love anything and your heart will be wrung and possibly broken. If you want to make sure of keeping it intact you must give it to no one, not even an animal. Wrap it carefully round with hobbies and little luxuries; avoid all entanglements. Lock it up safe in the casket or coffin of your selfishness. But in that casket, safe, dark, motionless, airless, it will change. It will not be broken; it will become unbreakable, impenetrable, irredeemable. To love is to be vulnerable.”', '“Not all those who wander are lost.”', '“Do not pity the dead, Harry. Pity the living, and, above all those who live without love.”', '“There is nothing to writing. All you do is sit down at a typewriter and bleed.”', '“Finish each day and be done with it. You have done what you could. Some blunders and absurdities no doubt crept in; forget them as soon as you can. Tomorrow is a new day. You shall begin it serenely and with too high a spirit to be encumbered with your old nonsense.”', '“I have never let my schooling interfere with my education.”', \"“I have heard there are troubles of more than one kind. Some come from ahead and some come from behind. But I've bought a big bat. I'm all ready you see. Now my troubles are going to have troubles with me!”\"]\n",
      "request was successful\n"
     ]
    },
    {
     "name": "stdout",
     "output_type": "stream",
     "text": [
      "['“If I had a flower for every time I thought of you...I could walk through my garden forever.”', '“Some people never go crazy. What truly horrible lives they must lead.”', '“The trouble with having an open mind, of course, is that people will insist on coming along and trying to put things in it.”', '“Think left and think right and think low and think high. Oh, the thinks you can think up if only you try!”', \"“What really knocks me out is a book that, when you're all done reading it, you wish the author that wrote it was a terrific friend of yours and you could call him up on the phone whenever you felt like it. That doesn't happen much, though.”\", '“The reason I talk to myself is because I’m the only one whose answers I accept.”', \"“You may say I'm a dreamer, but I'm not the only one. I hope someday you'll join us. And the world will live as one.”\", '“I am free of all prejudice. I hate everyone equally. ”', \"“The question isn't who is going to let me; it's who is going to stop me.”\", \"“′Classic′ - a book which people praise and don't read.”\"]\n",
      "request was successful\n",
      "['“Anyone who has never made a mistake has never tried anything new.”', \"“A lady's imagination is very rapid; it jumps from admiration to love, from love to matrimony in a moment.”\", '“Remember, if the time should come when you have to make a choice between what is right and what is easy, remember what happened to a boy who was good, and kind, and brave, because he strayed across the path of Lord Voldemort. Remember Cedric Diggory.”', '“I declare after all there is no enjoyment like reading! How much sooner one tires of any thing than of a book! -- When I have a house of my own, I shall be miserable if I have not an excellent library.”', '“There are few people whom I really love, and still fewer of whom I think well. The more I see of the world, the more am I dissatisfied with it; and every day confirms my belief of the inconsistency of all human characters, and of the little dependence that can be placed on the appearance of merit or sense.”', '“Some day you will be old enough to start reading fairy tales again.”', '“We are not necessarily doubting that God will do the best for us; we are wondering how painful the best will turn out to be.”', '“The fear of death follows from the fear of life. A man who lives fully is prepared to die at any time.”', '“A lie can travel half way around the world while the truth is putting on its shoes.”', '“I believe in Christianity as I believe that the sun has risen: not only because I see it, but because by it I see everything else.”']\n",
      "request was successful\n",
      "['“The truth.\" Dumbledore sighed. \"It is a beautiful and terrible thing, and should therefore be treated with great caution.”', \"“I'm the one that's got to die when it's time for me to die, so let me live my life the way I want to.”\", '“To die will be an awfully big adventure.”', '“It takes courage to grow up and become who you really are.”', '“But better to get hurt by the truth than comforted with a lie.”', '“You never really understand a person until you consider things from his point of view... Until you climb inside of his skin and walk around in it.”', '“You have to write the book that wants to be written. And if the book will be too difficult for grown-ups, then you write it for children.”', '“Never tell the truth to people who are not worthy of it.”', \"“A person's a person, no matter how small.”\", '“... a mind needs books as a sword needs a whetstone, if it is to keep its edge.”']\n"
     ]
    }
   ],
   "source": [
    "URL_PATTERN = 'http://quotes.toscrape.com/page/%s/' # regex pattern for the urls to scrape\n",
    "PAGES_TO_SCRAPE = 10 # how many webpages to scrapge\n",
    "\n",
    "my_spider = IronhackSpider(URL_PATTERN, PAGES_TO_SCRAPE, content_parser=quotes_parser)\n",
    "my_spider.kickstart()"
   ]
  },
  {
   "cell_type": "markdown",
   "metadata": {},
   "source": [
    "# Challenge 5 - Scrape a Different Website\n",
    "\n",
    "Update the parameters passed to the `IronhackSpider` constructor so that you coder can crawl [books.toscrape.com](http://books.toscrape.com/). You will need to use a different `URL_PATTERN` (figure out the new url pattern by yourself) and write another parser function to be passed to `IronhackSpider`. \n",
    "\n",
    "In the cell below, place your entire code including the updated `IronhackSpdier` class and the code to kickstart the spider."
   ]
  },
  {
   "cell_type": "code",
   "execution_count": 120,
   "metadata": {},
   "outputs": [],
   "source": [
    "def quotes_parser(content):\n",
    "    soup = BeautifulSoup(content, 'lxml')\n",
    "    content = [value['title'] for value in soup.select('article[class=\"product_pod\"] > h3 > a')]\n",
    "    return content"
   ]
  },
  {
   "cell_type": "code",
   "execution_count": 124,
   "metadata": {},
   "outputs": [
    {
     "name": "stdout",
     "output_type": "stream",
     "text": [
      "request was successful\n",
      "['A Light in the Attic', 'Tipping the Velvet', 'Soumission', 'Sharp Objects', 'Sapiens: A Brief History of Humankind', 'The Requiem Red', 'The Dirty Little Secrets of Getting Your Dream Job', 'The Coming Woman: A Novel Based on the Life of the Infamous Feminist, Victoria Woodhull', 'The Boys in the Boat: Nine Americans and Their Epic Quest for Gold at the 1936 Berlin Olympics', 'The Black Maria', 'Starving Hearts (Triangular Trade Trilogy, #1)', \"Shakespeare's Sonnets\", 'Set Me Free', \"Scott Pilgrim's Precious Little Life (Scott Pilgrim #1)\", 'Rip it Up and Start Again', 'Our Band Could Be Your Life: Scenes from the American Indie Underground, 1981-1991', 'Olio', 'Mesaerion: The Best Science Fiction Stories 1800-1849', 'Libertarianism for Beginners', \"It's Only the Himalayas\"]\n",
      "request was successful\n",
      "['In Her Wake', 'How Music Works', 'Foolproof Preserving: A Guide to Small Batch Jams, Jellies, Pickles, Condiments, and More: A Foolproof Guide to Making Small Batch Jams, Jellies, Pickles, Condiments, and More', 'Chase Me (Paris Nights #2)', 'Black Dust', 'Birdsong: A Story in Pictures', \"America's Cradle of Quarterbacks: Western Pennsylvania's Football Factory from Johnny Unitas to Joe Montana\", 'Aladdin and His Wonderful Lamp', 'Worlds Elsewhere: Journeys Around Shakespeare’s Globe', 'Wall and Piece', 'The Four Agreements: A Practical Guide to Personal Freedom', 'The Five Love Languages: How to Express Heartfelt Commitment to Your Mate', 'The Elephant Tree', 'The Bear and the Piano', \"Sophie's World\", 'Penny Maybe', 'Maude (1883-1993):She Grew Up with the country', 'In a Dark, Dark Wood', 'Behind Closed Doors', \"You can't bury them all: Poems\"]\n",
      "request was successful\n",
      "['Slow States of Collapse: Poems', 'Reasons to Stay Alive', 'Private Paris (Private #10)', '#HigherSelfie: Wake Up Your Life. Free Your Soul. Find Your Tribe.', 'Without Borders (Wanderlove #1)', 'When We Collided', 'We Love You, Charlie Freeman', 'Untitled Collection: Sabbath Poems 2014', 'Unseen City: The Majesty of Pigeons, the Discreet Charm of Snails & Other Wonders of the Urban Wilderness', 'Unicorn Tracks', 'Unbound: How Eight Technologies Made Us Human, Transformed Society, and Brought Our World to the Brink', 'Tsubasa: WoRLD CHRoNiCLE 2 (Tsubasa WoRLD CHRoNiCLE #2)', 'Throwing Rocks at the Google Bus: How Growth Became the Enemy of Prosperity', 'This One Summer', 'Thirst', 'The Torch Is Passed: A Harding Family Story', 'The Secret of Dreadwillow Carse', 'The Pioneer Woman Cooks: Dinnertime: Comfort Classics, Freezer Food, 16-Minute Meals, and Other Delicious Ways to Solve Supper!', 'The Past Never Ends', 'The Natural History of Us (The Fine Art of Pretending #2)']\n",
      "request was successful\n",
      "['The Nameless City (The Nameless City #1)', 'The Murder That Never Was (Forensic Instincts #5)', \"The Most Perfect Thing: Inside (and Outside) a Bird's Egg\", 'The Mindfulness and Acceptance Workbook for Anxiety: A Guide to Breaking Free from Anxiety, Phobias, and Worry Using Acceptance and Commitment Therapy', 'The Life-Changing Magic of Tidying Up: The Japanese Art of Decluttering and Organizing', 'The Inefficiency Assassin: Time Management Tactics for Working Smarter, Not Longer', 'The Gutsy Girl: Escapades for Your Life of Epic Adventure', 'The Electric Pencil: Drawings from Inside State Hospital No. 3', 'The Death of Humanity: and the Case for Life', 'The Bulletproof Diet: Lose up to a Pound a Day, Reclaim Energy and Focus, Upgrade Your Life', 'The Art Forger', 'The Age of Genius: The Seventeenth Century and the Birth of the Modern Mind', \"The Activist's Tao Te Ching: Ancient Advice for a Modern Revolution\", 'Spark Joy: An Illustrated Master Class on the Art of Organizing and Tidying Up', 'Soul Reader', 'Security', 'Saga, Volume 6 (Saga (Collected Editions) #6)', 'Saga, Volume 5 (Saga (Collected Editions) #5)', 'Reskilling America: Learning to Labor in the Twenty-First Century', 'Rat Queens, Vol. 3: Demons (Rat Queens (Collected Editions) #11-15)']\n",
      "request was successful\n",
      "['Princess Jellyfish 2-in-1 Omnibus, Vol. 01 (Princess Jellyfish 2-in-1 Omnibus #1)', 'Princess Between Worlds (Wide-Awake Princess #5)', 'Pop Gun War, Volume 1: Gift', 'Political Suicide: Missteps, Peccadilloes, Bad Calls, Backroom Hijinx, Sordid Pasts, Rotten Breaks, and Just Plain Dumb Mistakes in the Annals of American Politics', 'Patience', 'Outcast, Vol. 1: A Darkness Surrounds Him (Outcast #1)', 'orange: The Complete Collection 1 (orange: The Complete Collection #1)', 'Online Marketing for Busy Authors: A Step-By-Step Guide', 'On a Midnight Clear', 'Obsidian (Lux #1)', 'My Paris Kitchen: Recipes and Stories', 'Masks and Shadows', 'Mama Tried: Traditional Italian Cooking for the Screwed, Crude, Vegan, and Tattooed', 'Lumberjanes, Vol. 2: Friendship to the Max (Lumberjanes #5-8)', 'Lumberjanes, Vol. 1: Beware the Kitten Holy (Lumberjanes #1-4)', 'Lumberjanes Vol. 3: A Terrible Plan (Lumberjanes #9-12)', 'Layered: Baking, Building, and Styling Spectacular Cakes', 'Judo: Seven Steps to Black Belt (an Introductory Guide for Beginners)', 'Join', 'In the Country We Love: My Family Divided']\n",
      "request was successful\n",
      "['Immunity: How Elie Metchnikoff Changed the Course of Modern Medicine', 'I Hate Fairyland, Vol. 1: Madly Ever After (I Hate Fairyland (Compilations) #1-5)', 'I am a Hero Omnibus Volume 1', 'How to Be Miserable: 40 Strategies You Already Use', 'Her Backup Boyfriend (The Sorensen Family #1)', 'Giant Days, Vol. 2 (Giant Days #5-8)', 'Forever and Forever: The Courtship of Henry Longfellow and Fanny Appleton', 'First and First (Five Boroughs #3)', 'Fifty Shades Darker (Fifty Shades #2)', 'Everydata: The Misinformation Hidden in the Little Data You Consume Every Day', \"Don't Be a Jerk: And Other Practical Advice from Dogen, Japan's Greatest Zen Master\", 'Danganronpa Volume 1', 'Crown of Midnight (Throne of Glass #2)', 'Codename Baboushka, Volume 1: The Conclave of Death', 'Camp Midnight', 'Call the Nurse: True Stories of a Country Nurse on a Scottish Isle', 'Burning', 'Bossypants', 'Bitch Planet, Vol. 1: Extraordinary Machine (Bitch Planet (Collected Editions))', 'Avatar: The Last Airbender: Smoke and Shadow, Part 3 (Smoke and Shadow #3)']\n",
      "request was successful\n",
      "['Algorithms to Live By: The Computer Science of Human Decisions', 'A World of Flavor: Your Gluten Free Passport', 'A Piece of Sky, a Grain of Rice: A Memoir in Four Meditations', 'A Murder in Time', 'A Flight of Arrows (The Pathfinders #2)', 'A Fierce and Subtle Poison', 'A Court of Thorns and Roses (A Court of Thorns and Roses #1)', '(Un)Qualified: How God Uses Broken People to Do Big Things', 'You Are What You Love: The Spiritual Power of Habit', \"William Shakespeare's Star Wars: Verily, A New Hope (William Shakespeare's Star Wars #4)\", 'Tuesday Nights in 1980', 'Tracing Numbers on a Train', 'Throne of Glass (Throne of Glass #1)', 'Thomas Jefferson and the Tripoli Pirates: The Forgotten War That Changed American History', 'Thirteen Reasons Why', 'The White Cat and the Monk: A Retelling of the Poem “Pangur Bán”', 'The Wedding Dress', 'The Vacationers', 'The Third Wave: An Entrepreneur’s Vision of the Future', 'The Stranger']\n",
      "request was successful\n",
      "['The Shadow Hero (The Shadow Hero)', 'The Secret (The Secret #1)', 'The Regional Office Is Under Attack!', 'The Psychopath Test: A Journey Through the Madness Industry', 'The Project', 'The Power of Now: A Guide to Spiritual Enlightenment', \"The Omnivore's Dilemma: A Natural History of Four Meals\", 'The Nerdy Nummies Cookbook: Sweet Treats for the Geek in All of Us', 'The Murder of Roger Ackroyd (Hercule Poirot #4)', 'The Mistake (Off-Campus #2)', \"The Matchmaker's Playbook (Wingmen Inc. #1)\", 'The Love and Lemons Cookbook: An Apple-to-Zucchini Celebration of Impromptu Cooking', 'The Long Shadow of Small Ghosts: Murder and Memory in an American City', 'The Kite Runner', 'The House by the Lake', 'The Glittering Court (The Glittering Court #1)', 'The Girl on the Train', 'The Genius of Birds', 'The Emerald Mystery', 'The Cookies & Cups Cookbook: 125+ sweet & savory recipes reminding you to Always Eat Dessert First']\n",
      "request was successful\n",
      "[\"The Bridge to Consciousness: I'm Writing the Bridge Between Science and Our Old and New Beliefs.\", \"The Artist's Way: A Spiritual Path to Higher Creativity\", 'The Art of War', 'The Argonauts', 'The 10% Entrepreneur: Live Your Startup Dream Without Quitting Your Day Job', 'Suddenly in Love (Lake Haven #1)', 'Something More Than This', 'Soft Apocalypse', \"So You've Been Publicly Shamed\", 'Shoe Dog: A Memoir by the Creator of NIKE', 'Shobu Samurai, Project Aryoku (#3)', 'Secrets and Lace (Fatal Hearts #1)', 'Scarlett Epstein Hates It Here', 'Romero and Juliet: A Tragic Tale of Love and Zombies', 'Redeeming Love', 'Poses for Artists Volume 1 - Dynamic and Sitting Poses: An Essential Reference for Figure Drawing and the Human Form', 'Poems That Make Grown Women Cry', 'Nightingale, Sing', 'Night Sky with Exit Wounds', 'Mrs. Houdini']\n"
     ]
    },
    {
     "name": "stdout",
     "output_type": "stream",
     "text": [
      "request was successful\n",
      "['Modern Romance', 'Miss Peregrine’s Home for Peculiar Children (Miss Peregrine’s Peculiar Children #1)', 'Louisa: The Extraordinary Life of Mrs. Adams', 'Little Red', 'Library of Souls (Miss Peregrine’s Peculiar Children #3)', 'Large Print Heart of the Pride', 'I Had a Nice Time And Other Lies...: How to find love & sh*t like that', 'Hollow City (Miss Peregrine’s Peculiar Children #2)', 'Grumbles', 'Full Moon over Noah’s Ark: An Odyssey to Mount Ararat and Beyond', 'Frostbite (Vampire Academy #2)', 'Follow You Home', 'First Steps for New Christians (Print Edition)', 'Finders Keepers (Bill Hodges Trilogy #2)', 'Fables, Vol. 1: Legends in Exile (Fables #1)', 'Eureka Trivia 6.0', 'Drive: The Surprising Truth About What Motivates Us', 'Done Rubbed Out (Reightman & Bailey #1)', 'Doing It Over (Most Likely To #1)', 'Deliciously Ella Every Day: Quick and Easy Recipes for Gluten-Free Snacks, Packed Lunches, and Simple Meals']\n",
      "request was successful\n",
      "['Dark Notes', 'Daring Greatly: How the Courage to Be Vulnerable Transforms the Way We Live, Love, Parent, and Lead', 'Close to You', 'Chasing Heaven: What Dying Taught Me About Living', 'Big Magic: Creative Living Beyond Fear', 'Becoming Wise: An Inquiry into the Mystery and Art of Living', 'Beauty Restored (Riley Family Legacy Novellas #3)', 'Batman: The Long Halloween (Batman)', 'Batman: The Dark Knight Returns (Batman)', \"Ayumi's Violin\", 'Anonymous', 'Amy Meets the Saints and Sages', 'Amid the Chaos', 'Amatus', 'Agnostic: A Spirited Manifesto', 'Zealot: The Life and Times of Jesus of Nazareth', 'You (You #1)', 'Wonder Woman: Earth One, Volume One (Wonder Woman: Earth One #1)', 'Wild Swans', 'Why the Right Went Wrong: Conservatism--From Goldwater to the Tea Party and Beyond']\n",
      "request was successful\n",
      "['Whole Lotta Creativity Going On: 60 Fun and Unusual Exercises to Awaken and Strengthen Your Creativity', \"What's It Like in Space?: Stories from Astronauts Who've Been There\", 'We Are Robin, Vol. 1: The Vigilante Business (We Are Robin #1)', \"Walt Disney's Alice in Wonderland\", 'V for Vendetta (V for Vendetta Complete)', 'Until Friday Night (The Field Party #1)', 'Unbroken: A World War II Story of Survival, Resilience, and Redemption', 'Twenty Yawns', 'Through the Woods', 'This Is Where It Ends', 'The Year of Magical Thinking', 'The Wright Brothers', \"The White Queen (The Cousins' War #1)\", \"The Wedding Pact (The O'Malleys #2)\", 'The Time Keeper', 'The Testament of Mary', 'The Star-Touched Queen', 'The Songs of the Gods', 'The Song of Achilles', 'The Rosie Project (Don Tillman #1)']\n",
      "request was successful\n",
      "['The Power of Habit: Why We Do What We Do in Life and Business', 'The Marriage of Opposites', 'The Lucifer Effect: Understanding How Good People Turn Evil', 'The Long Haul (Diary of a Wimpy Kid #9)', 'The Loney', 'The Literature Book (Big Ideas Simply Explained)', 'The Last Mile (Amos Decker #2)', 'The Immortal Life of Henrietta Lacks', 'The Hidden Oracle (The Trials of Apollo #1)', 'The Help Yourself Cookbook for Kids: 60 Easy Plant-Based Recipes Kids Can Make to Stay Healthy and Save the Earth', 'The Guilty (Will Robie #4)', 'The First Hostage (J.B. Collins #2)', 'The Dovekeepers', 'The Darkest Lie', 'The Bane Chronicles (The Bane Chronicles #1-11)', 'The Bad-Ass Librarians of Timbuktu: And Their Race to Save the World’s Most Precious Manuscripts', 'The 14th Colony (Cotton Malone #11)', 'That Darkness (Gardiner and Renner #1)', 'Tastes Like Fear (DI Marnie Rome #3)', 'Take Me with You']\n",
      "request was successful\n",
      "['Swell: A Year of Waves', 'Superman Vol. 1: Before Truth (Superman by Gene Luen Yang #1)', 'Still Life with Bread Crumbs', 'Steve Jobs', 'Sorting the Beef from the Bull: The Science of Food Fraud Forensics', 'Someone Like You (The Harrisons #2)', 'So Cute It Hurts!!, Vol. 6 (So Cute It Hurts!! #6)', 'Shtum', 'See America: A Celebration of Our National Parks & Treasured Sites', 'salt.', 'Robin War', 'Red Hood/Arsenal, Vol. 1: Open for Business (Red Hood/Arsenal #1)', 'Rain Fish', 'Quarter Life Poetry: Poems for the Young, Broke and Hangry', 'Pet Sematary', 'Overload: How to Unplug, Unwind, and Unleash Yourself from the Pressure of Stress', 'Once Was a Time', 'Old School (Diary of a Wimpy Kid #10)', 'No Dream Is Too High: Life Lessons From a Man Who Walked on the Moon', 'Naruto (3-in-1 Edition), Vol. 14: Includes Vols. 40, 41 & 42 (Naruto: Omnibus #14)']\n",
      "request was successful\n",
      "['My Name Is Lucy Barton', 'My Mrs. Brown', 'My Kind of Crazy', 'Mr. Mercedes (Bill Hodges Trilogy #1)', 'More Than Music (Chasing the Dream #1)', 'Made to Stick: Why Some Ideas Survive and Others Die', 'Luis Paints the World', 'Luckiest Girl Alive', 'Lowriders to the Center of the Earth (Lowriders in Space #2)', 'Love Is a Mix Tape (Music #1)', 'Looking for Lovely: Collecting the Moments that Matter', 'Living Leadership by Insight: A Good Leader Achieves, a Great Leader Builds Monuments', 'Let It Out: A Journey Through Journaling', 'Lady Midnight (The Dark Artifices #1)', \"It's All Easy: Healthy, Delicious Weeknight Meals in under 30 Minutes\", 'Island of Dragons (Unwanteds #7)', \"I Know What I'm Doing -- and Other Lies I Tell Myself: Dispatches from a Life Under Construction\", 'I Am Pilgrim (Pilgrim #1)', 'Hyperbole and a Half: Unfortunate Situations, Flawed Coping Mechanisms, Mayhem, and Other Things That Happened', 'Hush, Hush (Hush, Hush #1)']\n",
      "request was successful\n",
      "['Hold Your Breath (Search and Rescue #1)', 'Hamilton: The Revolution', 'Greek Mythic History', 'God: The Most Unpleasant Character in All Fiction', 'Glory over Everything: Beyond The Kitchen House', 'Feathers: Displays of Brilliant Plumage', 'Far & Away: Places on the Brink of Change: Seven Continents, Twenty-Five Years', 'Every Last Word', 'Eligible (The Austen Project #4)', 'El Deafo', 'Eight Hundred Grapes', 'Eaternity: More than 150 Deliciously Easy Vegan Recipes for a Long, Healthy, Satisfied, Joyful Life', 'Eat Fat, Get Thin', \"Don't Get Caught\", 'Doctor Sleep (The Shining #2)', 'Demigods & Magicians: Percy and Annabeth Meet the Kanes (Percy Jackson & Kane Chronicles Crossover #1-3)', 'Dear Mr. Knightley', 'Daily Fantasy Sports', 'Crazy Love: Overwhelmed by a Relentless God', 'Cometh the Hour (The Clifton Chronicles #6)']\n",
      "request was successful\n",
      "['Code Name Verity (Code Name Verity #1)', 'Clockwork Angel (The Infernal Devices #1)', 'City of Glass (The Mortal Instruments #3)', 'City of Fallen Angels (The Mortal Instruments #4)', 'City of Bones (The Mortal Instruments #1)', 'City of Ashes (The Mortal Instruments #2)', 'Cell', 'Catching Jordan (Hundred Oaks)', 'Carry On, Warrior: Thoughts on Life Unarmed', 'Carrie', 'Buying In: The Secret Dialogue Between What We Buy and Who We Are', 'Brain on Fire: My Month of Madness', 'Batman: Europa', 'Barefoot Contessa Back to Basics', \"Barefoot Contessa at Home: Everyday Recipes You'll Make Over and Over Again\", 'Balloon Animals', 'Art Ops Vol. 1', 'Aristotle and Dante Discover the Secrets of the Universe (Aristotle and Dante Discover the Secrets of the Universe #1)', 'Angels Walking (Angels Walking #1)', 'Angels & Demons (Robert Langdon #1)']\n",
      "request was successful\n",
      "['All the Light We Cannot See', 'Adulthood Is a Myth: A \"Sarah\\'s Scribbles\" Collection', 'Abstract City', 'A Time of Torment (Charlie Parker #14)', 'A Study in Scarlet (Sherlock Holmes #1)', 'A Series of Catastrophes and Miracles: A True Story of Love, Science, and Cancer', \"A People's History of the United States\", 'A Man Called Ove', 'A Distant Mirror: The Calamitous 14th Century', 'A Brush of Wings (Angels Walking #3)', '1491: New Revelations of the Americas Before Columbus', 'The Three Searches, Meaning, and the Story', 'Searching for Meaning in Gailana', 'Rook', 'My Kitchen Year: 136 Recipes That Saved My Life', '13 Hours: The Inside Account of What Really Happened In Benghazi', \"Will You Won't You Want Me?\", 'Tipping Point for Planet Earth: How Close Are We to the Edge?', 'The Star-Touched Queen', 'The Silent Sister (Riley MacPherson #1)']\n",
      "request was successful\n",
      "['The Midnight Watch: A Novel of the Titanic and the Californian', 'The Lonely City: Adventures in the Art of Being Alone', 'The Gray Rhino: How to Recognize and Act on the Obvious Dangers We Ignore', 'The Golden Condom: And Other Essays on Love Lost and Found', 'The Epidemic (The Program 0.6)', 'The Dinner Party', 'The Diary of a Young Girl', 'The Children', 'Stars Above (The Lunar Chronicles #4.5)', 'Snatched: How A Drug Queen Went Undercover for the DEA and Was Kidnapped By Colombian Guerillas', 'Raspberry Pi Electronics Projects for the Evil Genius', 'Quench Your Own Thirst: Business Lessons Learned Over a Beer or Two', 'Psycho: Sanitarium (Psycho #1.5)', 'Poisonous (Max Revere Novels #3)', 'One with You (Crossfire #5)', 'No Love Allowed (Dodge Cove #1)', 'Murder at the 42nd Street Library (Raymond Ambler #1)', 'Most Wanted', 'Love, Lies and Spies', 'How to Speak Golf: An Illustrated Guide to Links Lingo']\n"
     ]
    },
    {
     "name": "stdout",
     "output_type": "stream",
     "text": [
      "request was successful\n",
      "['Hide Away (Eve Duncan #20)', 'Furiously Happy: A Funny Book About Horrible Things', 'Everyday Italian: 125 Simple and Delicious Recipes', \"Equal Is Unfair: America's Misguided Fight Against Income Inequality\", 'Eleanor & Park', 'Dirty (Dive Bar #1)', 'Can You Keep a Secret? (Fear Street Relaunch #4)', 'Boar Island (Anna Pigeon #19)', 'A Paris Apartment', 'A la Mode: 120 Recipes in 60 Pairings: Pies, Tarts, Cakes, Crisps, and More Topped with Ice Cream, Gelato, Frozen Custard, and More', 'Troublemaker: Surviving Hollywood and Scientology', 'The Widow', 'The Sleep Revolution: Transforming Your Life, One Night at a Time', 'The Improbability of Love', 'The Art of Startup Fundraising', 'Take Me Home Tonight (Rock Star Romance #3)', 'Sleeping Giants (Themis Files #1)', 'Setting the World on Fire: The Brief, Astonishing Life of St. Catherine of Siena', 'Playing with Fire', 'Off the Hook (Fishing for Trouble #1)']\n",
      "request was successful\n",
      "['Mothering Sunday', 'Mother, Can You Not?', 'M Train', 'Lilac Girls', 'Lies and Other Acts of Love', 'Lab Girl', 'Keep Me Posted', \"It Didn't Start with You: How Inherited Family Trauma Shapes Who We Are and How to End the Cycle\", 'Grey (Fifty Shades #4)', 'Exit, Pursued by a Bear', 'Daredevils', 'Cravings: Recipes for What You Want to Eat', 'Born for This: How to Find the Work You Were Meant to Do', 'Arena', 'Adultery', \"A Mother's Reckoning: Living in the Aftermath of Tragedy\", \"A Gentleman's Position (Society of Gentlemen #3)\", '11/22/63', '10% Happier: How I Tamed the Voice in My Head, Reduced Stress Without Losing My Edge, and Found Self-Help That Actually Works', '10-Day Green Smoothie Cleanse: Lose Up to 15 Pounds in 10 Days!']\n",
      "request was successful\n",
      "['Without Shame', 'Watchmen', 'Unlimited Intuition Now', 'Underlying Notes', 'The Shack', 'The New Brand You: Your New Image Makes the Sale for You', 'The Moosewood Cookbook: Recipes from Moosewood Restaurant, Ithaca, New York', 'The Flowers Lied', 'The Fabric of the Cosmos: Space, Time, and the Texture of Reality', 'The Book of Mormon', 'The Art and Science of Low Carbohydrate Living', 'The Alien Club', 'Suzie Snowflake: One beautiful flake (a self-esteem story)', 'Nap-a-Roo', 'NaNo What Now? Finding your editing process, revising your NaNoWriMo book and building a writing career through publishing and beyond', 'Modern Day Fables', \"If I Gave You God's Phone Number....: Searching for Spirituality in America\", 'Fruits Basket, Vol. 9 (Fruits Basket #9)', 'Dress Your Family in Corduroy and Denim', \"Don't Forget Steven\"]\n",
      "request was successful\n",
      "[\"Chernobyl 01:23:40: The Incredible True Story of the World's Worst Nuclear Disaster\", 'Art and Fear: Observations on the Perils (and Rewards) of Artmaking', 'A Shard of Ice (The Black Symphony Saga #1)', \"A Hero's Curse (The Unseen Chronicles #1)\", '23 Degrees South: A Tropical Tale of Changing Whether...', 'Zero to One: Notes on Startups, or How to Build the Future', 'Why Not Me?', 'When Breath Becomes Air', 'Vagabonding: An Uncommon Guide to the Art of Long-Term World Travel', 'The Unlikely Pilgrimage of Harold Fry (Harold Fry #1)', 'The New Drawing on the Right Side of the Brain', \"The Midnight Assassin: Panic, Scandal, and the Hunt for America's First Serial Killer\", 'The Martian (The Martian #1)', 'The High Mountains of Portugal', 'The Grownup', \"The E-Myth Revisited: Why Most Small Businesses Don't Work and What to Do About It\", 'South of Sunshine', 'Smarter Faster Better: The Secrets of Being Productive in Life and Business', 'Silence in the Dark (Logan Point #4)', 'Shadows of the Past (Logan Point #1)']\n",
      "request was successful\n",
      "['Roller Girl', 'Rising Strong', 'Proofs of God: Classical Arguments from Tertullian to Barth', 'Please Kill Me: The Uncensored Oral History of Punk', 'Out of Print: City Lights Spotlight No. 14', 'My Life Next Door (My Life Next Door )', \"Miller's Valley\", \"Man's Search for Meaning\", \"Love That Boy: What Two Presidents, Eight Road Trips, and My Son Taught Me About a Parent's Expectations\", 'Living Forward: A Proven Plan to Stop Drifting and Get the Life You Want', 'Les Fleurs du Mal', 'Left Behind (Left Behind #1)', \"Kill 'Em and Leave: Searching for James Brown and the American Soul\", 'Kierkegaard: A Christian Missionary to Christians', 'John Vassos: Industrial Design for Modern Life', \"I'll Give You the Sun\", 'I Will Find You', 'Hystopia: A Novel', 'Howl and Other Poems', 'History of Beauty']\n",
      "request was successful\n",
      "[\"Heaven is for Real: A Little Boy's Astounding Story of His Trip to Heaven and Back\", 'Future Shock (Future Shock #1)', \"Ender's Game (The Ender Quintet #1)\", 'Diary of a Citizen Scientist: Chasing Tiger Beetles and Other New Ways of Engaging the World', 'Death by Leisure: A Cautionary Tale', 'Brilliant Beacons: A History of the American Lighthouse', \"Brazen: The Courage to Find the You That's Been Hiding\", 'Between the World and Me', 'Being Mortal: Medicine and What Matters in the End', 'A Murder Over a Girl: Justice, Gender, Junior High', '32 Yolks', '\"Most Blessed of the Patriarchs\": Thomas Jefferson and the Empire of the Imagination', 'You Are a Badass: How to Stop Doubting Your Greatness and Start Living an Awesome Life', 'Wildlife of New York: A Five-Borough Coloring Book', 'What Happened on Beale Street (Secrets of the South Mysteries #2)', 'Unreasonable Hope: Finding Faith in the God Who Brings Purpose to Your Pain', 'Under the Tuscan Sun', \"Toddlers Are A**holes: It's Not Your Fault\", \"The Year of Living Biblically: One Man's Humble Quest to Follow the Bible as Literally as Possible\", 'The Whale']\n",
      "request was successful\n",
      "['The Story of Art', 'The Origin of Species', 'The Great Gatsby', 'The Good Girl', 'The Glass Castle', \"The Faith of Christopher Hitchens: The Restless Soul of the World's Most Notorious Atheist\", 'The Drowning Girls', 'The Constant Princess (The Tudor Court #1)', 'The Bourne Identity (Jason Bourne #1)', \"The Bachelor Girl's Guide to Murder (Herringford and Watts Mysteries #1)\", 'The Art Book', 'The 7 Habits of Highly Effective People: Powerful Lessons in Personal Change', 'Team of Rivals: The Political Genius of Abraham Lincoln', 'Steal Like an Artist: 10 Things Nobody Told You About Being Creative', 'Sit, Stay, Love', 'Sister Dear', 'Shrunken Treasures: Literary Classics, Short, Sweet, and Silly', 'Rich Dad, Poor Dad', 'Raymie Nightingale', 'Playing from the Heart']\n",
      "request was successful\n",
      "['Nightstruck: A Novel', 'Naturally Lean: 125 Nourishing Gluten-Free, Plant-Based Recipes--All Under 300 Calories', 'Meternity', 'Memoirs of a Geisha', 'Like Never Before (Walker Family #2)', 'Life of Pi', 'Leave This Song Behind: Teen Poetry at Its Best', \"King's Folly (The Kinsman Chronicles #1)\", 'John Adams', 'How to Cook Everything Vegetarian: Simple Meatless Recipes for Great Food (How to Cook Everything)', 'How to Be a Domestic Goddess: Baking and the Art of Comfort Cooking', 'Good in Bed (Cannie Shapiro #1)', 'Fruits Basket, Vol. 7 (Fruits Basket #7)', 'For the Love: Fighting for Grace in a World of Impossible Standards', 'Finding God in the Ruins: How God Redeems Pain', 'Every Heart a Doorway (Every Heart A Doorway #1)', 'Delivering the Truth (Quaker Midwife Mystery #1)', 'Counted With the Stars (Out from Egypt #1)', 'Chronicles, Vol. 1', 'Blue Like Jazz: Nonreligious Thoughts on Christian Spirituality']\n",
      "request was successful\n",
      "['Benjamin Franklin: An American Life', 'At The Existentialist Café: Freedom, Being, and apricot cocktails with: Jean-Paul Sartre, Simone de Beauvoir, Albert Camus, Martin Heidegger, Edmund Husserl, Karl Jaspers, Maurice Merleau-Ponty and others', 'A Summer In Europe', 'A Short History of Nearly Everything', 'A Gathering of Shadows (Shades of Magic #2)', 'The Sound Of Love', 'The Rise and Fall of the Third Reich: A History of Nazi Germany', 'The Perks of Being a Wallflower', 'The Mysterious Affair at Styles (Hercule Poirot #1)', 'The Man Who Mistook His Wife for a Hat and Other Clinical Tales', 'The Makings of a Fatherless Child', 'The Joy of Cooking', 'The Invention of Wings', 'The Hobbit (Middle-Earth Universe)', 'The Great Railway Bazaar', 'The Golden Compass (His Dark Materials #1)', 'The God Delusion', 'The Girl You Left Behind (The Girl You Left Behind #1)', 'The Fellowship of the Ring (The Lord of the Rings #1)', 'The Collected Poems of W.B. Yeats (The Collected Works of W.B. Yeats #1)']\n"
     ]
    },
    {
     "name": "stdout",
     "output_type": "stream",
     "text": [
      "request was successful\n",
      "['The Barefoot Contessa Cookbook', \"Tell the Wolves I'm Home\", 'Ship Leaves Harbor: Essays on Travel by a Recovering Journeyman', 'Pride and Prejudice', 'Musicophilia: Tales of Music and the Brain', 'Mere Christianity', 'Me Before You (Me Before You #1)', 'In the Woods (Dublin Murder Squad #1)', 'In Cold Blood', 'How to Stop Worrying and Start Living', 'Give It Back', 'Girl, Interrupted', 'Fun Home: A Family Tragicomic', 'Fruits Basket, Vol. 6 (Fruits Basket #6)', 'Deception Point', 'Death Note, Vol. 6: Give-and-Take (Death Note #6)', 'Catherine the Great: Portrait of a Woman', 'Better Homes and Gardens New Cook Book', 'An Unquiet Mind: A Memoir of Moods and Madness', 'A Year in Provence (Provence #1)']\n",
      "request was successful\n",
      "['World Without End (The Pillars of the Earth #2)', 'Will Grayson, Will Grayson (Will Grayson, Will Grayson)', 'Why Save the Bankers?: And Other Essays on Our Economic and Political Crisis', 'Where She Went (If I Stay #2)', 'What If?: Serious Scientific Answers to Absurd Hypothetical Questions', 'Two Summers', 'This Is Your Brain on Music: The Science of a Human Obsession', 'The Secret Garden', 'The Raven King (The Raven Cycle #4)', 'The Raven Boys (The Raven Cycle #1)', 'The Power Greens Cookbook: 140 Delicious Superfood Recipes', 'The Metamorphosis', \"The Mathews Men: Seven Brothers and the War Against Hitler's U-boats\", 'The Little Paris Bookshop', 'The Hiding Place', 'The Grand Design', 'The Firm', 'The Fault in Our Stars', 'The False Prince (The Ascendance Trilogy #1)', 'The Expatriates']\n",
      "request was successful\n",
      "['The Dream Thieves (The Raven Cycle #2)', 'The Darkest Corners', 'The Crossover', 'The 5th Wave (The 5th Wave #1)', 'Tell the Wind and Fire', 'Tell Me Three Things', \"Talking to Girls About Duran Duran: One Young Man's Quest for True Love and a Cooler Haircut\", 'Siddhartha', 'Shiver (The Wolves of Mercy Falls #1)', 'Remember Me?', 'Red Dragon (Hannibal Lecter #1)', 'Peak: Secrets from the New Science of Expertise', 'My Mother Was Nuts', 'Mexican Today: New and Rediscovered Recipes for Contemporary Kitchens', 'Maybe Something Beautiful: How Art Transformed a Neighborhood', 'Lola and the Boy Next Door (Anna and the French Kiss #2)', 'Logan Kade (Fallen Crest High #5.5)', 'Last One Home (New Beginnings #1)', 'Killing Floor (Jack Reacher #1)', 'Kill the Boy Band']\n",
      "request was successful\n",
      "['Isla and the Happily Ever After (Anna and the French Kiss #3)', 'If I Stay (If I Stay #1)', \"I Know Why the Caged Bird Sings (Maya Angelou's Autobiography #1)\", 'Harry Potter and the Deathly Hallows (Harry Potter #7)', 'Fruits Basket, Vol. 5 (Fruits Basket #5)', 'Foundation (Foundation (Publication Order) #1)', 'Fool Me Once', 'Find Her (Detective D.D. Warren #8)', 'Evicted: Poverty and Profit in the American City', 'Drama', 'Dracula the Un-Dead', 'Digital Fortress', 'Death Note, Vol. 5: Whiteout (Death Note #5)', 'Data, A Love Story: How I Gamed Online Dating to Meet My Match', 'Critique of Pure Reason', 'Booked', 'Blue Lily, Lily Blue (The Raven Cycle #3)', 'Approval Junkie: Adventures in Caring Too Much', 'An Abundance of Katherines', \"America's War for the Greater Middle East: A Military History\"]\n",
      "request was successful\n",
      "['Alight (The Generations Trilogy #2)', \"A Girl's Guide to Moving On (New Beginnings #2)\", 'A Game of Thrones (A Song of Ice and Fire #1)', 'A Feast for Crows (A Song of Ice and Fire #4)', 'A Clash of Kings (A Song of Ice and Fire #2)', 'Vogue Colors A to Z: A Fashion Coloring Book', 'The Shining (The Shining #1)', \"The Pilgrim's Progress\", 'The Perfect Play (Play by Play #1)', 'The Passion of Dolssa', 'The Jazz of Physics: The Secret Link Between Music and the Structure of the Universe', 'The Hunger Games (The Hunger Games #1)', 'The Hound of the Baskervilles (Sherlock Holmes #5)', 'The Gunning of America: Business and the Making of American Gun Culture', \"The Geography of Bliss: One Grump's Search for the Happiest Places in the World\", 'The Demonists (Demonist #1)', 'The Demon Prince of Momochi House, Vol. 4 (The Demon Prince of Momochi House #4)', 'The Bone Hunters (Lexy Vaughan & Steven Macaulay #2)', 'The Beast (Black Dagger Brotherhood #14)', 'Some Women']\n",
      "request was successful\n",
      "['Shopaholic Ties the Knot (Shopaholic #3)', 'Paper and Fire (The Great Library #2)', 'Outlander (Outlander #1)', 'Orchestra of Exiles: The Story of Bronislaw Huberman, the Israel Philharmonic, and the One Thousand Jews He Saved from Nazi Horrors', 'No One Here Gets Out Alive', 'Night Shift (Night Shift #1-20)', 'Needful Things', 'Mockingjay (The Hunger Games #3)', 'Misery', 'Little Women (Little Women #1)', 'It', \"Harry Potter and the Sorcerer's Stone (Harry Potter #1)\", 'Harry Potter and the Prisoner of Azkaban (Harry Potter #3)', 'Harry Potter and the Order of the Phoenix (Harry Potter #5)', 'Harry Potter and the Half-Blood Prince (Harry Potter #6)', 'Harry Potter and the Chamber of Secrets (Harry Potter #2)', 'Gone with the Wind', 'God Is Not Great: How Religion Poisons Everything', 'Girl With a Pearl Earring', 'Fruits Basket, Vol. 4 (Fruits Basket #4)']\n",
      "request was successful\n",
      "['Far From True (Promise Falls Trilogy #2)', 'Dark Lover (Black Dagger Brotherhood #1)', 'Confessions of a Shopaholic (Shopaholic #1)', 'Changing the Game (Play by Play #2)', 'Candide', 'Can You Keep a Secret?', 'Atlas Shrugged', 'Animal Farm', 'A Walk to Remember', \"A New Earth: Awakening to Your Life's Purpose\", 'A History of God: The 4,000-Year Quest of Judaism, Christianity, and Islam', \"'Salem's Lot\", 'Zero History (Blue Ant #3)', 'Wuthering Heights', 'World War Z: An Oral History of the Zombie War', 'Wild: From Lost to Found on the Pacific Crest Trail', \"Where'd You Go, Bernadette\", 'When You Are Engulfed in Flames', \"We the People: The Modern-Day Figures Who Have Reshaped and Affirmed the Founding Fathers' Vision of America\", 'We Are All Completely Beside Ourselves']\n",
      "request was successful\n",
      "['Walk the Edge (Thunder Road #2)', 'Voyager (Outlander #3)', 'Very Good Lives: The Fringe Benefits of Failure and the Importance of Imagination', 'Vegan Vegetarian Omnivore: Dinner for Everyone at the Table', 'Unstuffed: Decluttering Your Home, Mind, and Soul', 'Under the Banner of Heaven: A Story of Violent Faith', 'Two Boys Kissing', 'Twilight (Twilight #1)', 'Twenties Girl', \"Trespassing Across America: One Man's Epic, Never-Done-Before (and Sort of Illegal) Hike Across the Heartland\", 'Three-Martini Lunch', 'Thinking, Fast and Slow', 'The Wild Robot', 'The Wicked + The Divine, Vol. 3: Commercial Suicide (The Wicked + The Divine)', 'The Undomestic Goddess', 'The Travelers', 'The Tipping Point: How Little Things Can Make a Big Difference', 'The Thing About Jellyfish', 'The Stand', 'The Smitten Kitchen Cookbook']\n",
      "request was successful\n",
      "['The Silkworm (Cormoran Strike #2)', 'The Sandman, Vol. 3: Dream Country (The Sandman (volumes) #3)', 'The Rose & the Dagger (The Wrath and the Dawn #2)', 'The Road to Little Dribbling: Adventures of an American in Britain (Notes From a Small Island #2)', 'The Rise of Theodore Roosevelt (Theodore Roosevelt #1)', \"The Restaurant at the End of the Universe (Hitchhiker's Guide to the Galaxy #2)\", 'The Rest Is Noise: Listening to the Twentieth Century', 'The Red Tent', 'The Purpose Driven Life: What on Earth Am I Here for?', 'The Purest Hook (Second Circle Tattoos #3)', 'The Picture of Dorian Gray', 'The Paris Wife', 'The Obsession', 'The Nightingale', 'The New Guy (and Other Senior Year Distractions)', 'The Nanny Diaries (Nanny #1)', 'The Name of God is Mercy', 'The Maze Runner (The Maze Runner #1)', \"The Lover's Dictionary\", 'The Lonely Ones']\n",
      "request was successful\n",
      "[\"The Lean Startup: How Today's Entrepreneurs Use Continuous Innovation to Create Radically Successful Businesses\", 'The Last Painting of Sara de Vos', 'The Land of 10,000 Madonnas', 'The Infinities', \"The Husband's Secret\", \"The Hitchhiker's Guide to the Galaxy (Hitchhiker's Guide to the Galaxy #1)\", 'The Guns of August', 'The Guernsey Literary and Potato Peel Pie Society', 'The Goldfinch', 'The Giver (The Giver Quartet #1)', 'The Girl with All the Gifts', 'The Girl Who Played with Fire (Millennium Trilogy #2)', \"The Girl Who Kicked the Hornet's Nest (Millennium Trilogy #3)\", 'The Exiled', 'The End of Faith: Religion, Terror, and the Future of Reason', 'The Elegant Universe: Superstrings, Hidden Dimensions, and the Quest for the Ultimate Theory', 'The Disappearing Spoon: And Other True Tales of Madness, Love, and the History of the World from the Periodic Table of the Elements', 'The Devil Wears Prada (The Devil Wears Prada #1)', 'The Demon-Haunted World: Science as a Candle in the Dark', 'The Day the Crayons Came Home (Crayons)']\n"
     ]
    },
    {
     "name": "stdout",
     "output_type": "stream",
     "text": [
      "request was successful\n",
      "['The Da Vinci Code (Robert Langdon #2)', \"The Cuckoo's Calling (Cormoran Strike #1)\", 'The Complete Stories and Poems (The Works of Edgar Allan Poe [Cameo Edition])', 'The Complete Poems', 'The Catcher in the Rye', 'The Cat in the Hat (Beginner Books B-1)', 'The Case for Christ (Cases for Christianity)', 'The Book Thief', 'The Book of Basketball: The NBA According to The Sports Guy', 'The Blind Side: Evolution of a Game', 'The Autobiography of Malcolm X', 'The Art of Simple Food: Notes, Lessons, and Recipes from a Delicious Revolution', 'The Art of Fielding', \"Surely You're Joking, Mr. Feynman!: Adventures of a Curious Character\", 'Stiff: The Curious Lives of Human Cadavers', 'Spilled Milk: Based on a True Story', 'Something Borrowed (Darcy & Rachel #1)', 'Something Blue (Darcy & Rachel #2)', 'Soldier (Talon #3)', 'Shopaholic & Baby (Shopaholic #5)']\n",
      "request was successful\n",
      "['Seven Days in the Art World', 'Seven Brief Lessons on Physics', 'Scarlet (The Lunar Chronicles #2)', \"Sarah's Key\", 'Saga, Volume 3 (Saga (Collected Editions) #3)', 'Running with Scissors', 'Rogue Lawyer (Rogue Lawyer #1)', 'Rise of the Rocket Girls: The Women Who Propelled Us, from Missiles to the Moon to Mars', 'Rework', 'Reservations for Two', 'Red: The True Story of Red Riding Hood', 'Ready Player One', \"Quiet: The Power of Introverts in a World That Can't Stop Talking\", 'Prodigy: The Graphic Novel (Legend: The Graphic Novel #2)', 'Persepolis: The Story of a Childhood (Persepolis #1-2)', 'Packing for Mars: The Curious Science of Life in the Void', 'Outliers: The Story of Success', 'Original Fake', 'Orange Is the New Black', 'One for the Money (Stephanie Plum #1)']\n",
      "request was successful\n",
      "['Notes from a Small Island (Notes From a Small Island #1)', 'Night (The Night Trilogy #1)', 'Neither Here nor There: Travels in Europe', 'Naked', 'Morning Star (Red Rising #3)', 'Miracles from Heaven: A Little Girl, Her Journey to Heaven, and Her Amazing Story of Healing', 'Midnight Riot (Peter Grant/ Rivers of London - books #1)', 'Me Talk Pretty One Day', 'Manuscript Found in Accra', 'Lust & Wonder', 'Lila (Gilead #3)', \"Life, the Universe and Everything (Hitchhiker's Guide to the Galaxy #3)\", 'Life Without a Recipe', 'Life After Life', 'Letter to a Christian Nation', \"Let's Pretend This Never Happened: A Mostly True Memoir\", 'Legend (Legend #1)', 'Lean In: Women, Work, and the Will to Lead', \"Lamb: The Gospel According to Biff, Christ's Childhood Pal\", 'Lady Renegades (Rebel Belle #3)']\n",
      "request was successful\n",
      "['Jurassic Park (Jurassic Park #1)', \"It's Never Too Late to Begin Again: Discovering Creativity and Meaning at Midlife and Beyond\", 'Is Everyone Hanging Out Without Me? (And Other Concerns)', 'Into the Wild', 'Inferno (Robert Langdon #4)', \"In the Garden of Beasts: Love, Terror, and an American Family in Hitler's Berlin\", 'If I Run (If I Run #1)', \"I've Got Your Number\", 'I Am Malala: The Girl Who Stood Up for Education and Was Shot by the Taliban', 'Hungry Girl Clean & Hungry: Easy All-Natural Recipes for Healthy Eating in the Real World', 'House of Lost Worlds: Dinosaurs, Dynasties, and the Story of Life on Earth', 'House of Leaves', 'Horrible Bear!', 'Holidays on Ice', 'Heir to the Sky', 'Green Eggs and Ham (Beginner Books B-16)', 'Grayson, Vol 3: Nemesis (Grayson #3)', 'Gratitude', 'Gone Girl', 'Golden (Heart of Dread #3)']\n",
      "request was successful\n",
      "['Girl in the Blue Coat', 'Fruits Basket, Vol. 3 (Fruits Basket #3)', 'Friday Night Lights: A Town, a Team, and a Dream', 'Fire Bound (Sea Haven/Sisters of the Heart #5)', 'Fifty Shades Freed (Fifty Shades #3)', 'Fellside', 'Extreme Prey (Lucas Davenport #26)', 'Eragon (The Inheritance Cycle #1)', 'Eclipse (Twilight #3)', 'Dune (Dune #1)', 'Dracula', 'Do Androids Dream of Electric Sheep? (Blade Runner #1)', 'Disrupted: My Misadventure in the Start-Up Bubble', 'Dead Wake: The Last Crossing of the Lusitania', 'David and Goliath: Underdogs, Misfits, and the Art of Battling Giants', 'Darkfever (Fever #1)', 'Dark Places', 'Crazy Rich Asians (Crazy Rich Asians #1)', 'Counting Thyme', 'Cosmos']\n",
      "request was successful\n",
      "['Civilization and Its Discontents', 'Cinder (The Lunar Chronicles #1)', \"Catastrophic Happiness: Finding Joy in Childhood's Messy Years\", 'Career of Evil (Cormoran Strike #3)', 'Breaking Dawn (Twilight #4)', 'Brave Enough', 'Boy Meets Boy', 'Born to Run: A Hidden Tribe, Superathletes, and the Greatest Race the World Has Never Seen', 'Blink: The Power of Thinking Without Thinking', 'Black Flags: The Rise of ISIS', 'Black Butler, Vol. 1 (Black Butler #1)', 'Big Little Lies', 'Between Shades of Gray', \"Best of My Love (Fool's Gold #20)\", 'Beowulf', 'Beautiful Creatures (Caster Chronicles #1)', 'Awkward', 'Ash', 'Are We There Yet?', 'Are We Smart Enough to Know How Smart Animals Are?']\n",
      "request was successful\n",
      "['Annie on My Mind', 'And Then There Were None', 'A Walk in the Woods: Rediscovering America on the Appalachian Trail', 'A Visit from the Goon Squad', 'A Storm of Swords (A Song of Ice and Fire #3)', 'A Heartbreaking Work of Staggering Genius', '8 Keys to Mental Health Through Exercise', '#GIRLBOSS', 'The Suffragettes (Little Black Classics, #96)', 'The Sense of an Ending', \"The Sandman, Vol. 2: The Doll's House (The Sandman (volumes) #2)\", 'The Course of Love', 'Sugar Rush (Offensive Line #2)', 'Saga, Volume 2 (Saga (Collected Editions) #2)', 'Run, Spot, Run: The Ethics of Keeping Pets', 'New Moon (Twilight #2)', 'Life', \"Kindle Paperwhite User's Guide\", 'H is for Hawk', 'Girl Online On Tour (Girl Online #2)']\n",
      "request was successful\n",
      "['Fruits Basket, Vol. 2 (Fruits Basket #2)', 'Diary of a Minecraft Zombie Book 1: A Scare of a Dare (An Unofficial Minecraft Book)', 'Y: The Last Man, Vol. 1: Unmanned (Y: The Last Man #1)', 'While You Were Mine', 'Where Lightning Strikes (Bleeding Stars #3)', \"When I'm Gone\", 'Ways of Seeing', 'Vampire Knight, Vol. 1 (Vampire Knight #1)', 'Vampire Girl (Vampire Girl #1)', 'Twenty Love Poems and a Song of Despair', 'Travels with Charley: In Search of America', 'Three Wishes (River of Time: California #1)', 'This One Moment (Pushing Limits #1)', 'The Zombie Room', 'The Wicked + The Divine, Vol. 1: The Faust Act (The Wicked + The Divine)', 'The Tumor', 'The Story of Hong Gildong', 'The Silent Wife', 'The Silent Twin (Detective Jennifer Knight #3)', 'The Selfish Gene']\n",
      "request was successful\n",
      "['The Secret Healer', 'The Sandman, Vol. 1: Preludes and Nocturnes (The Sandman (volumes) #1)', 'The Republic', 'The Odyssey', \"The No. 1 Ladies' Detective Agency (No. 1 Ladies' Detective Agency #1)\", 'The Nicomachean Ethics', 'The Name of the Wind (The Kingkiller Chronicle #1)', 'The Mirror & the Maze (The Wrath and the Dawn #1.5)', 'The Little Prince', 'The Light of the Fireflies', 'The Last Girl (The Dominion Trilogy #1)', 'The Iliad', 'The Hook Up (Game On #1)', 'The Haters', 'The Girl You Lost', 'The Girl In The Ice (DCI Erika Foster #1)', 'The End of the Jesus Era (An Investigation #1)', 'The Edge of Reason (Bridget Jones #2)', 'The Complete Maus (Maus #1-2)', 'The Communist Manifesto']\n",
      "request was successful\n",
      "['The Bhagavad Gita', 'The Bette Davis Club', 'The Art of Not Breathing', 'Taking Shots (Assassins #1)', 'Starlark', 'Skip Beat!, Vol. 01 (Skip Beat! #1)', 'Sister Sable (The Mad Queen #1)', 'Shatter Me (Shatter Me #1)', 'Shameless', 'Shadow Rites (Jane Yellowrock #10)', 'Settling the Score (The Summer Games #1)', 'Sense and Sensibility', 'Saga, Volume 1 (Saga (Collected Editions) #1)', 'Rhythm, Chord & Malykhin', 'Rat Queens, Vol. 1: Sass & Sorcery (Rat Queens (Collected Editions) #1-5)', 'Paradise Lost (Paradise #1)', 'Paper Girls, Vol. 1 (Paper Girls #1-5)', 'Ouran High School Host Club, Vol. 1 (Ouran High School Host Club #1)', 'Origins (Alphas 0.5)', 'One Second (Seven #7)']\n",
      "request was successful\n",
      "['On the Road (Duluoz Legend)', \"Old Records Never Die: One Man's Quest for His Vinyl and His Past\", 'Off Sides (Off #1)', 'Of Mice and Men', 'Myriad (Prentor #1)', 'My Perfect Mistake (Over the Top #1)', 'Ms. Marvel, Vol. 1: No Normal (Ms. Marvel (2014-2015) #1)', 'Meditations', 'Matilda', 'Lost Among the Living', 'Lord of the Flies', 'Listen to Me (Fusion #1)', 'Kitchens of the Great Midwest', 'Jane Eyre', 'Imperfect Harmony', 'Icing (Aces Hockey #2)', 'Hawkeye, Vol. 1: My Life as a Weapon (Hawkeye #1)', \"Having the Barbarian's Baby (Ice Planet Barbarians #7.5)\", 'Giant Days, Vol. 1 (Giant Days #1-4)', 'Fruits Basket, Vol. 1 (Fruits Basket #1)']\n"
     ]
    },
    {
     "name": "stdout",
     "output_type": "stream",
     "text": [
      "request was successful\n",
      "['Frankenstein', 'Forever Rockers (The Rocker #12)', 'Fighting Fate (Fighting #6)', 'Emma', 'Eat, Pray, Love', 'Deep Under (Walker Security #1)', \"Choosing Our Religion: The Spiritual Lives of America's Nones\", 'Charlie and the Chocolate Factory (Charlie Bucket #1)', \"Charity's Cross (Charles Towne Belles #4)\", 'Bright Lines', \"Bridget Jones's Diary (Bridget Jones #1)\", 'Bounty (Colorado Mountain #7)', 'Blood Defense (Samantha Brinkman #1)', 'Bleach, Vol. 1: Strawberry and the Soul Reapers (Bleach #1)', 'Beyond Good and Evil', \"Alice in Wonderland (Alice's Adventures in Wonderland #1)\", 'Ajin: Demi-Human, Volume 1 (Ajin: Demi-Human #1)', \"A Spy's Devotion (The Regency Spies of London #1)\", \"1st to Die (Women's Murder Club #1)\", '1,000 Places to See Before You Die']\n"
     ]
    }
   ],
   "source": [
    "URL_PATTERN = 'http://books.toscrape.com/catalogue/category/books_1/page-%s.html' # regex pattern for the urls to scrape\n",
    "PAGES_TO_SCRAPE = 50 # how many webpages to scrapge\n",
    "\n",
    "my_spider = IronhackSpider(URL_PATTERN, PAGES_TO_SCRAPE, content_parser=quotes_parser)\n",
    "my_spider.kickstart()"
   ]
  },
  {
   "cell_type": "markdown",
   "metadata": {},
   "source": [
    "# Bonus Challenge 1 - Making Your Spider Unblockable\n",
    "\n",
    "Use techniques such as randomizing user agents and referers in your requests to reduce the likelihood that your spider is blocked by websites. [Here](http://blog.adnansiddiqi.me/5-strategies-to-write-unblock-able-web-scrapers-in-python/) is a great article to learn these techniques.\n",
    "\n",
    "In the cell below, place your entire code including the updated `IronhackSpdier` class and the code to kickstart the spider."
   ]
  },
  {
   "cell_type": "code",
   "execution_count": 176,
   "metadata": {},
   "outputs": [],
   "source": [
    "import numpy as np\n",
    "\n",
    "def get_random_ua():\n",
    "    random_ua = ''\n",
    "    ua_file = 'ua_file.txt'\n",
    "    try:\n",
    "        with open(ua_file) as f:\n",
    "            lines = f.readlines()\n",
    "        if len(lines) > 0:\n",
    "            prng = np.random.RandomState()\n",
    "            index = prng.permutation(len(lines) - 1)\n",
    "            idx = np.asarray(index, dtype=np.integer)[0]\n",
    "            random_ua = lines[int(idx)]\n",
    "    except Exception as ex:\n",
    "        print('Exception in random_ua')\n",
    "        print(str(ex))\n",
    "    finally:\n",
    "        return random_ua.rstrip()"
   ]
  },
  {
   "cell_type": "code",
   "execution_count": 178,
   "metadata": {},
   "outputs": [],
   "source": [
    "# your code here\n",
    "class IronhackSpider:\n",
    "    \"\"\"\n",
    "    This is the constructor class to which you can pass a bunch of parameters. \n",
    "    These parameters are stored to the class instance variables so that the\n",
    "    class functions can access them later.\n",
    "    \n",
    "    url_pattern: the regex pattern of the web urls to scape\n",
    "    pages_to_scrape: how many pages to scrape\n",
    "    sleep_interval: the time interval in seconds to delay between requests. If <0, requests will not be delayed.\n",
    "    content_parser: a function reference that will extract the intended info from the scraped content.\n",
    "    \"\"\"\n",
    "    def __init__(self, url_pattern, pages_to_scrape=10, sleep_interval=-1, content_parser=None):\n",
    "        self.url_pattern = url_pattern\n",
    "        self.pages_to_scrape = pages_to_scrape\n",
    "        self.sleep_interval = sleep_interval\n",
    "        self.content_parser = content_parser\n",
    "    \n",
    "    \"\"\"\n",
    "    Scrape the content of a single url.\n",
    "    \"\"\"\n",
    "    def scrape_url(self, url): \n",
    "        user_agent = get_random_ua()\n",
    "        headers = {'user-agent': user_agent}#\"Mozilla/5.0 (compatible; MSIE 10.0; Windows NT 6.1; WOW64; Trident/6.0)\"}\n",
    "        try:\n",
    "            r = requests.get(url, headers = headers, timeout=10)\n",
    "            if r.status_code < 300:\n",
    "                self.output_results('request was successful')\n",
    "            elif r.status_code >= 400 and r.status_code < 500:\n",
    "                self.output_results('request failed because the resource either does not exist or is forbidden')\n",
    "            else:\n",
    "                self.output_results('request failed because the response server encountered an error')         \n",
    "            response = requests.get(url)\n",
    "            result = self.content_parser(response.content)\n",
    "            self.output_results(result)\n",
    "            \n",
    "            \n",
    "        except requests.exceptions.Timeout:\n",
    "            self.output_results(f\"Timeout, couldn't connect after {timeout}s\")\n",
    "        except requests.exceptions.TooManyRedirects:\n",
    "            self.output_results(\"Too many redirects, I'm not following that!\")\n",
    "        except requests.exceptions.SSLError:\n",
    "            self.output_results(\"Site doesn't have a SSL certificate\")\n",
    "        except requests.exceptions.RequestException as e:\n",
    "            self.output_results(\"OK... I don't know what's happening here...\")\n",
    "              \n",
    "    \"\"\"\n",
    "    Export the scraped content. Right now it simply print out the results.\n",
    "    But in the future you can export the results into a text file or database.\n",
    "    \"\"\"\n",
    "    def output_results(self, r):\n",
    "        print(r)\n",
    "    \n",
    "    \"\"\"\n",
    "    After the class is instantiated, call this function to start the scraping jobs.\n",
    "    This function uses a FOR loop to call `scrape_url()` for each url to scrape.\n",
    "    \"\"\"\n",
    "    def kickstart(self):\n",
    "        \n",
    "        for i in range(1, self.pages_to_scrape+1):\n",
    "                self.scrape_url(self.url_pattern % i)\n",
    "                if self.sleep_interval > 0:\n",
    "                    time.sleep(self.sleep_interval)"
   ]
  },
  {
   "cell_type": "code",
   "execution_count": 180,
   "metadata": {
    "scrolled": true
   },
   "outputs": [
    {
     "name": "stdout",
     "output_type": "stream",
     "text": [
      "request was successful\n",
      "['A Light in the Attic', 'Tipping the Velvet', 'Soumission', 'Sharp Objects', 'Sapiens: A Brief History of Humankind', 'The Requiem Red', 'The Dirty Little Secrets of Getting Your Dream Job', 'The Coming Woman: A Novel Based on the Life of the Infamous Feminist, Victoria Woodhull', 'The Boys in the Boat: Nine Americans and Their Epic Quest for Gold at the 1936 Berlin Olympics', 'The Black Maria', 'Starving Hearts (Triangular Trade Trilogy, #1)', \"Shakespeare's Sonnets\", 'Set Me Free', \"Scott Pilgrim's Precious Little Life (Scott Pilgrim #1)\", 'Rip it Up and Start Again', 'Our Band Could Be Your Life: Scenes from the American Indie Underground, 1981-1991', 'Olio', 'Mesaerion: The Best Science Fiction Stories 1800-1849', 'Libertarianism for Beginners', \"It's Only the Himalayas\"]\n",
      "request was successful\n",
      "['In Her Wake', 'How Music Works', 'Foolproof Preserving: A Guide to Small Batch Jams, Jellies, Pickles, Condiments, and More: A Foolproof Guide to Making Small Batch Jams, Jellies, Pickles, Condiments, and More', 'Chase Me (Paris Nights #2)', 'Black Dust', 'Birdsong: A Story in Pictures', \"America's Cradle of Quarterbacks: Western Pennsylvania's Football Factory from Johnny Unitas to Joe Montana\", 'Aladdin and His Wonderful Lamp', 'Worlds Elsewhere: Journeys Around Shakespeare’s Globe', 'Wall and Piece', 'The Four Agreements: A Practical Guide to Personal Freedom', 'The Five Love Languages: How to Express Heartfelt Commitment to Your Mate', 'The Elephant Tree', 'The Bear and the Piano', \"Sophie's World\", 'Penny Maybe', 'Maude (1883-1993):She Grew Up with the country', 'In a Dark, Dark Wood', 'Behind Closed Doors', \"You can't bury them all: Poems\"]\n",
      "request was successful\n",
      "['Slow States of Collapse: Poems', 'Reasons to Stay Alive', 'Private Paris (Private #10)', '#HigherSelfie: Wake Up Your Life. Free Your Soul. Find Your Tribe.', 'Without Borders (Wanderlove #1)', 'When We Collided', 'We Love You, Charlie Freeman', 'Untitled Collection: Sabbath Poems 2014', 'Unseen City: The Majesty of Pigeons, the Discreet Charm of Snails & Other Wonders of the Urban Wilderness', 'Unicorn Tracks', 'Unbound: How Eight Technologies Made Us Human, Transformed Society, and Brought Our World to the Brink', 'Tsubasa: WoRLD CHRoNiCLE 2 (Tsubasa WoRLD CHRoNiCLE #2)', 'Throwing Rocks at the Google Bus: How Growth Became the Enemy of Prosperity', 'This One Summer', 'Thirst', 'The Torch Is Passed: A Harding Family Story', 'The Secret of Dreadwillow Carse', 'The Pioneer Woman Cooks: Dinnertime: Comfort Classics, Freezer Food, 16-Minute Meals, and Other Delicious Ways to Solve Supper!', 'The Past Never Ends', 'The Natural History of Us (The Fine Art of Pretending #2)']\n",
      "request was successful\n",
      "['The Nameless City (The Nameless City #1)', 'The Murder That Never Was (Forensic Instincts #5)', \"The Most Perfect Thing: Inside (and Outside) a Bird's Egg\", 'The Mindfulness and Acceptance Workbook for Anxiety: A Guide to Breaking Free from Anxiety, Phobias, and Worry Using Acceptance and Commitment Therapy', 'The Life-Changing Magic of Tidying Up: The Japanese Art of Decluttering and Organizing', 'The Inefficiency Assassin: Time Management Tactics for Working Smarter, Not Longer', 'The Gutsy Girl: Escapades for Your Life of Epic Adventure', 'The Electric Pencil: Drawings from Inside State Hospital No. 3', 'The Death of Humanity: and the Case for Life', 'The Bulletproof Diet: Lose up to a Pound a Day, Reclaim Energy and Focus, Upgrade Your Life', 'The Art Forger', 'The Age of Genius: The Seventeenth Century and the Birth of the Modern Mind', \"The Activist's Tao Te Ching: Ancient Advice for a Modern Revolution\", 'Spark Joy: An Illustrated Master Class on the Art of Organizing and Tidying Up', 'Soul Reader', 'Security', 'Saga, Volume 6 (Saga (Collected Editions) #6)', 'Saga, Volume 5 (Saga (Collected Editions) #5)', 'Reskilling America: Learning to Labor in the Twenty-First Century', 'Rat Queens, Vol. 3: Demons (Rat Queens (Collected Editions) #11-15)']\n",
      "request was successful\n",
      "['Princess Jellyfish 2-in-1 Omnibus, Vol. 01 (Princess Jellyfish 2-in-1 Omnibus #1)', 'Princess Between Worlds (Wide-Awake Princess #5)', 'Pop Gun War, Volume 1: Gift', 'Political Suicide: Missteps, Peccadilloes, Bad Calls, Backroom Hijinx, Sordid Pasts, Rotten Breaks, and Just Plain Dumb Mistakes in the Annals of American Politics', 'Patience', 'Outcast, Vol. 1: A Darkness Surrounds Him (Outcast #1)', 'orange: The Complete Collection 1 (orange: The Complete Collection #1)', 'Online Marketing for Busy Authors: A Step-By-Step Guide', 'On a Midnight Clear', 'Obsidian (Lux #1)', 'My Paris Kitchen: Recipes and Stories', 'Masks and Shadows', 'Mama Tried: Traditional Italian Cooking for the Screwed, Crude, Vegan, and Tattooed', 'Lumberjanes, Vol. 2: Friendship to the Max (Lumberjanes #5-8)', 'Lumberjanes, Vol. 1: Beware the Kitten Holy (Lumberjanes #1-4)', 'Lumberjanes Vol. 3: A Terrible Plan (Lumberjanes #9-12)', 'Layered: Baking, Building, and Styling Spectacular Cakes', 'Judo: Seven Steps to Black Belt (an Introductory Guide for Beginners)', 'Join', 'In the Country We Love: My Family Divided']\n"
     ]
    }
   ],
   "source": [
    "URL_PATTERN = 'http://books.toscrape.com/catalogue/category/books_1/page-%s.html' # regex pattern for the urls to scrape\n",
    "PAGES_TO_SCRAPE = 5 # how many webpages to scrapge\n",
    "my_spider = IronhackSpider(URL_PATTERN, PAGES_TO_SCRAPE, content_parser=quotes_parser)\n",
    "my_spider.kickstart()"
   ]
  },
  {
   "cell_type": "markdown",
   "metadata": {},
   "source": [
    "# Bonus Challenge 2 - Making Asynchronous Calls\n",
    "\n",
    "Implement asynchronous calls to `IronhackSpider`. You will make requests in parallel to complete your tasks faster.\n",
    "\n",
    "In the cell below, place your entire code including the updated `IronhackSpdier` class and the code to kickstart the spider."
   ]
  },
  {
   "cell_type": "code",
   "execution_count": null,
   "metadata": {},
   "outputs": [],
   "source": [
    "# your code here\n"
   ]
  }
 ],
 "metadata": {
  "kernelspec": {
   "display_name": "Python 3.7 (tensorflow)",
   "language": "python",
   "name": "tensorflow"
  },
  "language_info": {
   "codemirror_mode": {
    "name": "ipython",
    "version": 3
   },
   "file_extension": ".py",
   "mimetype": "text/x-python",
   "name": "python",
   "nbconvert_exporter": "python",
   "pygments_lexer": "ipython3",
   "version": "3.7.7"
  }
 },
 "nbformat": 4,
 "nbformat_minor": 2
}
